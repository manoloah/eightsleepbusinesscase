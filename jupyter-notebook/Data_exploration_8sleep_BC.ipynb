{
 "cells": [
  {
   "cell_type": "code",
   "execution_count": 46,
   "id": "d50e0e31-0473-454a-99b8-13ec2ad15f60",
   "metadata": {},
   "outputs": [],
   "source": [
    "import pandas as pd\n",
    "import duckdb\n",
    "import numpy as np\n",
    "import matplotlib.pyplot as plt\n",
    "import plotly.express as px\n",
    "import plotly.graph_objects as go\n",
    "from plotly.subplots import make_subplots"
   ]
  },
  {
   "cell_type": "code",
   "execution_count": 22,
   "id": "9e4da59e-0fd0-43c5-aa15-5c17998e0bf1",
   "metadata": {},
   "outputs": [],
   "source": [
    "df_channel_perf= pd.read_csv(\"channel_performance.csv\")\n",
    "df_wbr_global = pd.read_csv(\"wbr_Global_data.csv\")\n",
    "df_wbr_regional = pd.read_csv(\"wbr_regional_data.csv\")"
   ]
  },
  {
   "cell_type": "code",
   "execution_count": 23,
   "id": "c8eff7f7-7fc9-4110-956e-34c0985456e9",
   "metadata": {},
   "outputs": [
    {
     "name": "stdout",
     "output_type": "stream",
     "text": [
      "<class 'pandas.core.frame.DataFrame'>\n",
      "RangeIndex: 72 entries, 0 to 71\n",
      "Data columns (total 14 columns):\n",
      " #   Column                                  Non-Null Count  Dtype  \n",
      "---  ------                                  --------------  -----  \n",
      " 0   channel                                 72 non-null     object \n",
      " 1   spend                                   54 non-null     float64\n",
      " 2   month                                   72 non-null     object \n",
      " 3   visitors                                72 non-null     object \n",
      " 4   last_click_email_captures               72 non-null     object \n",
      " 5   last_click_add_to_cart                  72 non-null     int64  \n",
      " 6   last_click_orders                       72 non-null     int64  \n",
      " 7   cac                                     72 non-null     float64\n",
      " 8   last_click_revenue                      72 non-null     float64\n",
      " 9   email_capture_conversion_30days_window  54 non-null     float64\n",
      " 10  email_capture_conversion_60days_windo   54 non-null     float64\n",
      " 11  Conversion Visitors to Email Captured   72 non-null     object \n",
      " 12  Conversion Visitor to Add To Cart       72 non-null     object \n",
      " 13  Conversion Visitors to Order            72 non-null     object \n",
      "dtypes: float64(5), int64(2), object(7)\n",
      "memory usage: 8.0+ KB\n"
     ]
    },
    {
     "data": {
      "text/html": [
       "<div>\n",
       "<style scoped>\n",
       "    .dataframe tbody tr th:only-of-type {\n",
       "        vertical-align: middle;\n",
       "    }\n",
       "\n",
       "    .dataframe tbody tr th {\n",
       "        vertical-align: top;\n",
       "    }\n",
       "\n",
       "    .dataframe thead th {\n",
       "        text-align: right;\n",
       "    }\n",
       "</style>\n",
       "<table border=\"1\" class=\"dataframe\">\n",
       "  <thead>\n",
       "    <tr style=\"text-align: right;\">\n",
       "      <th></th>\n",
       "      <th>channel</th>\n",
       "      <th>spend</th>\n",
       "      <th>month</th>\n",
       "      <th>visitors</th>\n",
       "      <th>last_click_email_captures</th>\n",
       "      <th>last_click_add_to_cart</th>\n",
       "      <th>last_click_orders</th>\n",
       "      <th>cac</th>\n",
       "      <th>last_click_revenue</th>\n",
       "      <th>email_capture_conversion_30days_window</th>\n",
       "      <th>email_capture_conversion_60days_windo</th>\n",
       "      <th>Conversion Visitors to Email Captured</th>\n",
       "      <th>Conversion Visitor to Add To Cart</th>\n",
       "      <th>Conversion Visitors to Order</th>\n",
       "    </tr>\n",
       "  </thead>\n",
       "  <tbody>\n",
       "    <tr>\n",
       "      <th>count</th>\n",
       "      <td>72</td>\n",
       "      <td>54.000000</td>\n",
       "      <td>72</td>\n",
       "      <td>72</td>\n",
       "      <td>72</td>\n",
       "      <td>72.000000</td>\n",
       "      <td>72.000000</td>\n",
       "      <td>72.000000</td>\n",
       "      <td>7.200000e+01</td>\n",
       "      <td>54.000000</td>\n",
       "      <td>54.000000</td>\n",
       "      <td>72</td>\n",
       "      <td>72</td>\n",
       "      <td>72</td>\n",
       "    </tr>\n",
       "    <tr>\n",
       "      <th>unique</th>\n",
       "      <td>4</td>\n",
       "      <td>NaN</td>\n",
       "      <td>18</td>\n",
       "      <td>72</td>\n",
       "      <td>72</td>\n",
       "      <td>NaN</td>\n",
       "      <td>NaN</td>\n",
       "      <td>NaN</td>\n",
       "      <td>NaN</td>\n",
       "      <td>NaN</td>\n",
       "      <td>NaN</td>\n",
       "      <td>71</td>\n",
       "      <td>71</td>\n",
       "      <td>63</td>\n",
       "    </tr>\n",
       "    <tr>\n",
       "      <th>top</th>\n",
       "      <td>Organic + Direct</td>\n",
       "      <td>NaN</td>\n",
       "      <td>2024-01-01</td>\n",
       "      <td>234,285</td>\n",
       "      <td>7,092</td>\n",
       "      <td>NaN</td>\n",
       "      <td>NaN</td>\n",
       "      <td>NaN</td>\n",
       "      <td>NaN</td>\n",
       "      <td>NaN</td>\n",
       "      <td>NaN</td>\n",
       "      <td>4.882%</td>\n",
       "      <td>0.128%</td>\n",
       "      <td>0.154%</td>\n",
       "    </tr>\n",
       "    <tr>\n",
       "      <th>freq</th>\n",
       "      <td>18</td>\n",
       "      <td>NaN</td>\n",
       "      <td>4</td>\n",
       "      <td>1</td>\n",
       "      <td>1</td>\n",
       "      <td>NaN</td>\n",
       "      <td>NaN</td>\n",
       "      <td>NaN</td>\n",
       "      <td>NaN</td>\n",
       "      <td>NaN</td>\n",
       "      <td>NaN</td>\n",
       "      <td>2</td>\n",
       "      <td>2</td>\n",
       "      <td>2</td>\n",
       "    </tr>\n",
       "    <tr>\n",
       "      <th>mean</th>\n",
       "      <td>NaN</td>\n",
       "      <td>272112.053333</td>\n",
       "      <td>NaN</td>\n",
       "      <td>NaN</td>\n",
       "      <td>NaN</td>\n",
       "      <td>1665.263889</td>\n",
       "      <td>333.055556</td>\n",
       "      <td>1090.411111</td>\n",
       "      <td>1.317523e+06</td>\n",
       "      <td>171.925926</td>\n",
       "      <td>243.722222</td>\n",
       "      <td>NaN</td>\n",
       "      <td>NaN</td>\n",
       "      <td>NaN</td>\n",
       "    </tr>\n",
       "    <tr>\n",
       "      <th>std</th>\n",
       "      <td>NaN</td>\n",
       "      <td>264297.091905</td>\n",
       "      <td>NaN</td>\n",
       "      <td>NaN</td>\n",
       "      <td>NaN</td>\n",
       "      <td>1376.053164</td>\n",
       "      <td>299.829853</td>\n",
       "      <td>880.709661</td>\n",
       "      <td>1.201929e+06</td>\n",
       "      <td>211.174599</td>\n",
       "      <td>299.585400</td>\n",
       "      <td>NaN</td>\n",
       "      <td>NaN</td>\n",
       "      <td>NaN</td>\n",
       "    </tr>\n",
       "    <tr>\n",
       "      <th>min</th>\n",
       "      <td>NaN</td>\n",
       "      <td>1290.120000</td>\n",
       "      <td>NaN</td>\n",
       "      <td>NaN</td>\n",
       "      <td>NaN</td>\n",
       "      <td>44.000000</td>\n",
       "      <td>1.000000</td>\n",
       "      <td>0.000000</td>\n",
       "      <td>2.783000e+03</td>\n",
       "      <td>5.000000</td>\n",
       "      <td>7.000000</td>\n",
       "      <td>NaN</td>\n",
       "      <td>NaN</td>\n",
       "      <td>NaN</td>\n",
       "    </tr>\n",
       "    <tr>\n",
       "      <th>25%</th>\n",
       "      <td>NaN</td>\n",
       "      <td>64854.372500</td>\n",
       "      <td>NaN</td>\n",
       "      <td>NaN</td>\n",
       "      <td>NaN</td>\n",
       "      <td>471.750000</td>\n",
       "      <td>60.000000</td>\n",
       "      <td>418.245000</td>\n",
       "      <td>2.380660e+05</td>\n",
       "      <td>17.250000</td>\n",
       "      <td>23.500000</td>\n",
       "      <td>NaN</td>\n",
       "      <td>NaN</td>\n",
       "      <td>NaN</td>\n",
       "    </tr>\n",
       "    <tr>\n",
       "      <th>50%</th>\n",
       "      <td>NaN</td>\n",
       "      <td>159315.255000</td>\n",
       "      <td>NaN</td>\n",
       "      <td>NaN</td>\n",
       "      <td>NaN</td>\n",
       "      <td>1358.500000</td>\n",
       "      <td>325.500000</td>\n",
       "      <td>978.600000</td>\n",
       "      <td>9.995630e+05</td>\n",
       "      <td>38.000000</td>\n",
       "      <td>50.500000</td>\n",
       "      <td>NaN</td>\n",
       "      <td>NaN</td>\n",
       "      <td>NaN</td>\n",
       "    </tr>\n",
       "    <tr>\n",
       "      <th>75%</th>\n",
       "      <td>NaN</td>\n",
       "      <td>473810.295000</td>\n",
       "      <td>NaN</td>\n",
       "      <td>NaN</td>\n",
       "      <td>NaN</td>\n",
       "      <td>2685.750000</td>\n",
       "      <td>553.250000</td>\n",
       "      <td>1550.785000</td>\n",
       "      <td>2.176708e+06</td>\n",
       "      <td>329.000000</td>\n",
       "      <td>494.250000</td>\n",
       "      <td>NaN</td>\n",
       "      <td>NaN</td>\n",
       "      <td>NaN</td>\n",
       "    </tr>\n",
       "    <tr>\n",
       "      <th>max</th>\n",
       "      <td>NaN</td>\n",
       "      <td>973699.160000</td>\n",
       "      <td>NaN</td>\n",
       "      <td>NaN</td>\n",
       "      <td>NaN</td>\n",
       "      <td>6637.000000</td>\n",
       "      <td>1125.000000</td>\n",
       "      <td>3313.290000</td>\n",
       "      <td>4.421151e+06</td>\n",
       "      <td>728.000000</td>\n",
       "      <td>1073.000000</td>\n",
       "      <td>NaN</td>\n",
       "      <td>NaN</td>\n",
       "      <td>NaN</td>\n",
       "    </tr>\n",
       "  </tbody>\n",
       "</table>\n",
       "</div>"
      ],
      "text/plain": [
       "                 channel          spend        month visitors  \\\n",
       "count                 72      54.000000           72       72   \n",
       "unique                 4            NaN           18       72   \n",
       "top     Organic + Direct            NaN  2024-01-01   234,285   \n",
       "freq                  18            NaN            4        1   \n",
       "mean                 NaN  272112.053333          NaN      NaN   \n",
       "std                  NaN  264297.091905          NaN      NaN   \n",
       "min                  NaN    1290.120000          NaN      NaN   \n",
       "25%                  NaN   64854.372500          NaN      NaN   \n",
       "50%                  NaN  159315.255000          NaN      NaN   \n",
       "75%                  NaN  473810.295000          NaN      NaN   \n",
       "max                  NaN  973699.160000          NaN      NaN   \n",
       "\n",
       "       last_click_email_captures  last_click_add_to_cart  last_click_orders  \\\n",
       "count                         72               72.000000          72.000000   \n",
       "unique                        72                     NaN                NaN   \n",
       "top                        7,092                     NaN                NaN   \n",
       "freq                           1                     NaN                NaN   \n",
       "mean                         NaN             1665.263889         333.055556   \n",
       "std                          NaN             1376.053164         299.829853   \n",
       "min                          NaN               44.000000           1.000000   \n",
       "25%                          NaN              471.750000          60.000000   \n",
       "50%                          NaN             1358.500000         325.500000   \n",
       "75%                          NaN             2685.750000         553.250000   \n",
       "max                          NaN             6637.000000        1125.000000   \n",
       "\n",
       "                cac  last_click_revenue  \\\n",
       "count     72.000000        7.200000e+01   \n",
       "unique          NaN                 NaN   \n",
       "top             NaN                 NaN   \n",
       "freq            NaN                 NaN   \n",
       "mean    1090.411111        1.317523e+06   \n",
       "std      880.709661        1.201929e+06   \n",
       "min        0.000000        2.783000e+03   \n",
       "25%      418.245000        2.380660e+05   \n",
       "50%      978.600000        9.995630e+05   \n",
       "75%     1550.785000        2.176708e+06   \n",
       "max     3313.290000        4.421151e+06   \n",
       "\n",
       "        email_capture_conversion_30days_window  \\\n",
       "count                                54.000000   \n",
       "unique                                     NaN   \n",
       "top                                        NaN   \n",
       "freq                                       NaN   \n",
       "mean                                171.925926   \n",
       "std                                 211.174599   \n",
       "min                                   5.000000   \n",
       "25%                                  17.250000   \n",
       "50%                                  38.000000   \n",
       "75%                                 329.000000   \n",
       "max                                 728.000000   \n",
       "\n",
       "        email_capture_conversion_60days_windo  \\\n",
       "count                               54.000000   \n",
       "unique                                    NaN   \n",
       "top                                       NaN   \n",
       "freq                                      NaN   \n",
       "mean                               243.722222   \n",
       "std                                299.585400   \n",
       "min                                  7.000000   \n",
       "25%                                 23.500000   \n",
       "50%                                 50.500000   \n",
       "75%                                494.250000   \n",
       "max                               1073.000000   \n",
       "\n",
       "       Conversion Visitors to Email Captured  \\\n",
       "count                                     72   \n",
       "unique                                    71   \n",
       "top                                   4.882%   \n",
       "freq                                       2   \n",
       "mean                                     NaN   \n",
       "std                                      NaN   \n",
       "min                                      NaN   \n",
       "25%                                      NaN   \n",
       "50%                                      NaN   \n",
       "75%                                      NaN   \n",
       "max                                      NaN   \n",
       "\n",
       "       Conversion Visitor to Add To Cart Conversion Visitors to Order  \n",
       "count                                 72                           72  \n",
       "unique                                71                           63  \n",
       "top                               0.128%                       0.154%  \n",
       "freq                                   2                            2  \n",
       "mean                                 NaN                          NaN  \n",
       "std                                  NaN                          NaN  \n",
       "min                                  NaN                          NaN  \n",
       "25%                                  NaN                          NaN  \n",
       "50%                                  NaN                          NaN  \n",
       "75%                                  NaN                          NaN  \n",
       "max                                  NaN                          NaN  "
      ]
     },
     "execution_count": 23,
     "metadata": {},
     "output_type": "execute_result"
    }
   ],
   "source": [
    "df_channel_perf.shape        \n",
    "df_channel_perf.info()     \n",
    "df_channel_perf.head()\n",
    "df_channel_perf.tail()\n",
    "df_channel_perf.describe()   \n",
    "df_channel_perf.describe(include=\"all\") "
   ]
  },
  {
   "cell_type": "code",
   "execution_count": 9,
   "id": "6ed8cd18-3d22-4f2e-819b-fb93ce813eca",
   "metadata": {},
   "outputs": [
    {
     "name": "stdout",
     "output_type": "stream",
     "text": [
      "<class 'pandas.core.frame.DataFrame'>\n",
      "RangeIndex: 560 entries, 0 to 559\n",
      "Data columns (total 5 columns):\n",
      " #   Column       Non-Null Count  Dtype \n",
      "---  ------       --------------  ----- \n",
      " 0   Date         560 non-null    object\n",
      " 1   Daily Spend  560 non-null    object\n",
      " 2   Orders       560 non-null    int64 \n",
      " 3   Bookings     560 non-null    object\n",
      " 4   Visitors     560 non-null    object\n",
      "dtypes: int64(1), object(4)\n",
      "memory usage: 22.0+ KB\n"
     ]
    },
    {
     "data": {
      "text/html": [
       "<div>\n",
       "<style scoped>\n",
       "    .dataframe tbody tr th:only-of-type {\n",
       "        vertical-align: middle;\n",
       "    }\n",
       "\n",
       "    .dataframe tbody tr th {\n",
       "        vertical-align: top;\n",
       "    }\n",
       "\n",
       "    .dataframe thead th {\n",
       "        text-align: right;\n",
       "    }\n",
       "</style>\n",
       "<table border=\"1\" class=\"dataframe\">\n",
       "  <thead>\n",
       "    <tr style=\"text-align: right;\">\n",
       "      <th></th>\n",
       "      <th>Date</th>\n",
       "      <th>Daily Spend</th>\n",
       "      <th>Orders</th>\n",
       "      <th>Bookings</th>\n",
       "      <th>Visitors</th>\n",
       "    </tr>\n",
       "  </thead>\n",
       "  <tbody>\n",
       "    <tr>\n",
       "      <th>count</th>\n",
       "      <td>560</td>\n",
       "      <td>560</td>\n",
       "      <td>560.000000</td>\n",
       "      <td>560</td>\n",
       "      <td>560</td>\n",
       "    </tr>\n",
       "    <tr>\n",
       "      <th>unique</th>\n",
       "      <td>560</td>\n",
       "      <td>557</td>\n",
       "      <td>NaN</td>\n",
       "      <td>560</td>\n",
       "      <td>555</td>\n",
       "    </tr>\n",
       "    <tr>\n",
       "      <th>top</th>\n",
       "      <td>1/1/2024</td>\n",
       "      <td>$51,342</td>\n",
       "      <td>NaN</td>\n",
       "      <td>$282,147</td>\n",
       "      <td>22,337</td>\n",
       "    </tr>\n",
       "    <tr>\n",
       "      <th>freq</th>\n",
       "      <td>1</td>\n",
       "      <td>2</td>\n",
       "      <td>NaN</td>\n",
       "      <td>1</td>\n",
       "      <td>2</td>\n",
       "    </tr>\n",
       "    <tr>\n",
       "      <th>mean</th>\n",
       "      <td>NaN</td>\n",
       "      <td>NaN</td>\n",
       "      <td>106.671429</td>\n",
       "      <td>NaN</td>\n",
       "      <td>NaN</td>\n",
       "    </tr>\n",
       "    <tr>\n",
       "      <th>std</th>\n",
       "      <td>NaN</td>\n",
       "      <td>NaN</td>\n",
       "      <td>63.588620</td>\n",
       "      <td>NaN</td>\n",
       "      <td>NaN</td>\n",
       "    </tr>\n",
       "    <tr>\n",
       "      <th>min</th>\n",
       "      <td>NaN</td>\n",
       "      <td>NaN</td>\n",
       "      <td>42.000000</td>\n",
       "      <td>NaN</td>\n",
       "      <td>NaN</td>\n",
       "    </tr>\n",
       "    <tr>\n",
       "      <th>25%</th>\n",
       "      <td>NaN</td>\n",
       "      <td>NaN</td>\n",
       "      <td>76.000000</td>\n",
       "      <td>NaN</td>\n",
       "      <td>NaN</td>\n",
       "    </tr>\n",
       "    <tr>\n",
       "      <th>50%</th>\n",
       "      <td>NaN</td>\n",
       "      <td>NaN</td>\n",
       "      <td>94.500000</td>\n",
       "      <td>NaN</td>\n",
       "      <td>NaN</td>\n",
       "    </tr>\n",
       "    <tr>\n",
       "      <th>75%</th>\n",
       "      <td>NaN</td>\n",
       "      <td>NaN</td>\n",
       "      <td>118.250000</td>\n",
       "      <td>NaN</td>\n",
       "      <td>NaN</td>\n",
       "    </tr>\n",
       "    <tr>\n",
       "      <th>max</th>\n",
       "      <td>NaN</td>\n",
       "      <td>NaN</td>\n",
       "      <td>932.000000</td>\n",
       "      <td>NaN</td>\n",
       "      <td>NaN</td>\n",
       "    </tr>\n",
       "  </tbody>\n",
       "</table>\n",
       "</div>"
      ],
      "text/plain": [
       "            Date Daily Spend      Orders  Bookings Visitors\n",
       "count        560         560  560.000000       560      560\n",
       "unique       560         557         NaN       560      555\n",
       "top     1/1/2024     $51,342         NaN  $282,147   22,337\n",
       "freq           1           2         NaN         1        2\n",
       "mean         NaN         NaN  106.671429       NaN      NaN\n",
       "std          NaN         NaN   63.588620       NaN      NaN\n",
       "min          NaN         NaN   42.000000       NaN      NaN\n",
       "25%          NaN         NaN   76.000000       NaN      NaN\n",
       "50%          NaN         NaN   94.500000       NaN      NaN\n",
       "75%          NaN         NaN  118.250000       NaN      NaN\n",
       "max          NaN         NaN  932.000000       NaN      NaN"
      ]
     },
     "execution_count": 9,
     "metadata": {},
     "output_type": "execute_result"
    }
   ],
   "source": [
    "df_wbr_global.shape        \n",
    "df_wbr_global.info()     \n",
    "df_wbr_global.head()\n",
    "df_wbr_global.tail()\n",
    "df_wbr_global.describe()   \n",
    "df_wbr_global.describe(include=\"all\") "
   ]
  },
  {
   "cell_type": "code",
   "execution_count": 10,
   "id": "809295a4-bc6b-4392-a41b-3a0bdafeb7a4",
   "metadata": {},
   "outputs": [
    {
     "name": "stdout",
     "output_type": "stream",
     "text": [
      "<class 'pandas.core.frame.DataFrame'>\n",
      "RangeIndex: 9850 entries, 0 to 9849\n",
      "Data columns (total 8 columns):\n",
      " #   Column         Non-Null Count  Dtype  \n",
      "---  ------         --------------  -----  \n",
      " 0   Unnamed: 0     0 non-null      float64\n",
      " 1   Unnamed: 1     0 non-null      float64\n",
      " 2   Date           9850 non-null   object \n",
      " 3   Customer Type  9850 non-null   object \n",
      " 4   Region         9850 non-null   object \n",
      " 5   Bookings       9850 non-null   object \n",
      " 6   Orders         9850 non-null   int64  \n",
      " 7   Units          9850 non-null   int64  \n",
      "dtypes: float64(2), int64(2), object(4)\n",
      "memory usage: 615.8+ KB\n"
     ]
    },
    {
     "data": {
      "text/html": [
       "<div>\n",
       "<style scoped>\n",
       "    .dataframe tbody tr th:only-of-type {\n",
       "        vertical-align: middle;\n",
       "    }\n",
       "\n",
       "    .dataframe tbody tr th {\n",
       "        vertical-align: top;\n",
       "    }\n",
       "\n",
       "    .dataframe thead th {\n",
       "        text-align: right;\n",
       "    }\n",
       "</style>\n",
       "<table border=\"1\" class=\"dataframe\">\n",
       "  <thead>\n",
       "    <tr style=\"text-align: right;\">\n",
       "      <th></th>\n",
       "      <th>Unnamed: 0</th>\n",
       "      <th>Unnamed: 1</th>\n",
       "      <th>Date</th>\n",
       "      <th>Customer Type</th>\n",
       "      <th>Region</th>\n",
       "      <th>Bookings</th>\n",
       "      <th>Orders</th>\n",
       "      <th>Units</th>\n",
       "    </tr>\n",
       "  </thead>\n",
       "  <tbody>\n",
       "    <tr>\n",
       "      <th>count</th>\n",
       "      <td>0.0</td>\n",
       "      <td>0.0</td>\n",
       "      <td>9850</td>\n",
       "      <td>9850</td>\n",
       "      <td>9850</td>\n",
       "      <td>9850</td>\n",
       "      <td>9850.000000</td>\n",
       "      <td>9850.000000</td>\n",
       "    </tr>\n",
       "    <tr>\n",
       "      <th>unique</th>\n",
       "      <td>NaN</td>\n",
       "      <td>NaN</td>\n",
       "      <td>561</td>\n",
       "      <td>4</td>\n",
       "      <td>9</td>\n",
       "      <td>6661</td>\n",
       "      <td>NaN</td>\n",
       "      <td>NaN</td>\n",
       "    </tr>\n",
       "    <tr>\n",
       "      <th>top</th>\n",
       "      <td>NaN</td>\n",
       "      <td>NaN</td>\n",
       "      <td>2025-05-14</td>\n",
       "      <td>1. New Members</td>\n",
       "      <td>US</td>\n",
       "      <td>$0</td>\n",
       "      <td>NaN</td>\n",
       "      <td>NaN</td>\n",
       "    </tr>\n",
       "    <tr>\n",
       "      <th>freq</th>\n",
       "      <td>NaN</td>\n",
       "      <td>NaN</td>\n",
       "      <td>27</td>\n",
       "      <td>3502</td>\n",
       "      <td>2240</td>\n",
       "      <td>737</td>\n",
       "      <td>NaN</td>\n",
       "      <td>NaN</td>\n",
       "    </tr>\n",
       "    <tr>\n",
       "      <th>mean</th>\n",
       "      <td>NaN</td>\n",
       "      <td>NaN</td>\n",
       "      <td>NaN</td>\n",
       "      <td>NaN</td>\n",
       "      <td>NaN</td>\n",
       "      <td>NaN</td>\n",
       "      <td>6.940508</td>\n",
       "      <td>7.005584</td>\n",
       "    </tr>\n",
       "    <tr>\n",
       "      <th>std</th>\n",
       "      <td>NaN</td>\n",
       "      <td>NaN</td>\n",
       "      <td>NaN</td>\n",
       "      <td>NaN</td>\n",
       "      <td>NaN</td>\n",
       "      <td>NaN</td>\n",
       "      <td>23.371255</td>\n",
       "      <td>23.551023</td>\n",
       "    </tr>\n",
       "    <tr>\n",
       "      <th>min</th>\n",
       "      <td>NaN</td>\n",
       "      <td>NaN</td>\n",
       "      <td>NaN</td>\n",
       "      <td>NaN</td>\n",
       "      <td>NaN</td>\n",
       "      <td>NaN</td>\n",
       "      <td>0.000000</td>\n",
       "      <td>0.000000</td>\n",
       "    </tr>\n",
       "    <tr>\n",
       "      <th>25%</th>\n",
       "      <td>NaN</td>\n",
       "      <td>NaN</td>\n",
       "      <td>NaN</td>\n",
       "      <td>NaN</td>\n",
       "      <td>NaN</td>\n",
       "      <td>NaN</td>\n",
       "      <td>0.000000</td>\n",
       "      <td>0.000000</td>\n",
       "    </tr>\n",
       "    <tr>\n",
       "      <th>50%</th>\n",
       "      <td>NaN</td>\n",
       "      <td>NaN</td>\n",
       "      <td>NaN</td>\n",
       "      <td>NaN</td>\n",
       "      <td>NaN</td>\n",
       "      <td>NaN</td>\n",
       "      <td>0.000000</td>\n",
       "      <td>0.000000</td>\n",
       "    </tr>\n",
       "    <tr>\n",
       "      <th>75%</th>\n",
       "      <td>NaN</td>\n",
       "      <td>NaN</td>\n",
       "      <td>NaN</td>\n",
       "      <td>NaN</td>\n",
       "      <td>NaN</td>\n",
       "      <td>NaN</td>\n",
       "      <td>4.000000</td>\n",
       "      <td>4.000000</td>\n",
       "    </tr>\n",
       "    <tr>\n",
       "      <th>max</th>\n",
       "      <td>NaN</td>\n",
       "      <td>NaN</td>\n",
       "      <td>NaN</td>\n",
       "      <td>NaN</td>\n",
       "      <td>NaN</td>\n",
       "      <td>NaN</td>\n",
       "      <td>794.000000</td>\n",
       "      <td>800.000000</td>\n",
       "    </tr>\n",
       "  </tbody>\n",
       "</table>\n",
       "</div>"
      ],
      "text/plain": [
       "        Unnamed: 0  Unnamed: 1        Date   Customer Type Region Bookings  \\\n",
       "count          0.0         0.0        9850            9850   9850     9850   \n",
       "unique         NaN         NaN         561               4      9     6661   \n",
       "top            NaN         NaN  2025-05-14  1. New Members     US       $0   \n",
       "freq           NaN         NaN          27            3502   2240      737   \n",
       "mean           NaN         NaN         NaN             NaN    NaN      NaN   \n",
       "std            NaN         NaN         NaN             NaN    NaN      NaN   \n",
       "min            NaN         NaN         NaN             NaN    NaN      NaN   \n",
       "25%            NaN         NaN         NaN             NaN    NaN      NaN   \n",
       "50%            NaN         NaN         NaN             NaN    NaN      NaN   \n",
       "75%            NaN         NaN         NaN             NaN    NaN      NaN   \n",
       "max            NaN         NaN         NaN             NaN    NaN      NaN   \n",
       "\n",
       "             Orders        Units  \n",
       "count   9850.000000  9850.000000  \n",
       "unique          NaN          NaN  \n",
       "top             NaN          NaN  \n",
       "freq            NaN          NaN  \n",
       "mean       6.940508     7.005584  \n",
       "std       23.371255    23.551023  \n",
       "min        0.000000     0.000000  \n",
       "25%        0.000000     0.000000  \n",
       "50%        0.000000     0.000000  \n",
       "75%        4.000000     4.000000  \n",
       "max      794.000000   800.000000  "
      ]
     },
     "execution_count": 10,
     "metadata": {},
     "output_type": "execute_result"
    }
   ],
   "source": [
    "df_wbr_regional.shape        \n",
    "df_wbr_regional.info()     \n",
    "df_wbr_regional.head()\n",
    "df_wbr_regional.tail()\n",
    "df_wbr_regional.describe()   \n",
    "df_wbr_regional.describe(include=\"all\") "
   ]
  },
  {
   "cell_type": "code",
   "execution_count": 52,
   "id": "3121f2c2-bb14-438a-a645-e507f6844c72",
   "metadata": {},
   "outputs": [
    {
     "name": "stdout",
     "output_type": "stream",
     "text": [
      "            channel       cac       roi  total_conversions\n",
      "0        Google Ads  0.001240  4.569267            12717.0\n",
      "1            FB Ads  0.000743  2.981805             1610.0\n",
      "2       YouTube Ads  0.000412  1.984202              934.0\n",
      "3  Organic + Direct       NaN       NaN             8719.0\n"
     ]
    }
   ],
   "source": [
    "df = pd.read_csv(\"channel_performance.csv\")\n",
    "\n",
    "# Query with DuckDB\n",
    "result = duckdb.query(\"\"\"\n",
    "    SELECT channel,\n",
    "           SUM(last_click_orders) / sum(spend)::FLOAT AS cac,\n",
    "           SUM(last_click_revenue)/sum(spend)::Float as roi, \n",
    "           SUM(last_click_orders ) AS total_conversions\n",
    "    FROM df\n",
    "    GROUP BY channel\n",
    "    ORDER BY cac DESC\n",
    "    \"\"\"\n",
    ").to_df()\n",
    "\n",
    "print(result)"
   ]
  },
  {
   "cell_type": "code",
   "execution_count": 39,
   "id": "7c5485d8-0f08-42f6-9f45-c49cf5628911",
   "metadata": {},
   "outputs": [
    {
     "name": "stdout",
     "output_type": "stream",
     "text": [
      "            channel        spend  visitors  orders     revenue          CAC  \\\n",
      "0            FB Ads   2167847.08   3675412    1610   6464098.0  1346.488870   \n",
      "1        Google Ads  10256462.52   1938001   12717  46864519.0   806.515886   \n",
      "2  Organic + Direct         0.00   5604223    8719  37029412.0     0.000000   \n",
      "3       YouTube Ads   2269741.28   5741010     934   4503624.0  2430.129850   \n",
      "\n",
      "   ConvRate  \n",
      "0  0.000438  \n",
      "1  0.006562  \n",
      "2  0.001556  \n",
      "3  0.000163  \n",
      "        month           channel      spend  orders    revenue          CAC\n",
      "0  2024-01-31            FB Ads   27889.50      27    77699.0  1032.944444\n",
      "1  2024-01-31        Google Ads  279224.05     467  1282303.0   597.910171\n",
      "2  2024-01-31  Organic + Direct       0.00     360  1037281.0     0.000000\n",
      "3  2024-01-31       YouTube Ads    1290.12       1     2783.0  1290.120000\n",
      "4  2024-02-29            FB Ads   39846.47      51   135766.0   781.303333\n",
      "..        ...               ...        ...     ...        ...          ...\n",
      "67 2025-05-31       YouTube Ads  811497.71     313  1738865.0  2592.644441\n",
      "68 2025-06-30            FB Ads  246595.36     143   697405.0  1724.443077\n",
      "69 2025-06-30        Google Ads  659430.64     689  3095706.0   957.083657\n",
      "70 2025-06-30  Organic + Direct       0.00     572  2907438.0     0.000000\n",
      "71 2025-06-30       YouTube Ads  316467.61     127   667467.0  2491.870945\n",
      "\n",
      "[72 rows x 6 columns]\n",
      "Spend vs Orders corr by channel:\n",
      " channel\n",
      "FB Ads              0.977430\n",
      "Google Ads          0.918795\n",
      "Organic + Direct         NaN\n",
      "YouTube Ads         0.996864\n",
      "dtype: float64\n",
      "Paid vs Organic corr (monthly): 0.7279620544935754\n",
      "Lag(1) corr spend->orders by channel:\n",
      " channel\n",
      "FB Ads              0.315533\n",
      "Google Ads          0.294431\n",
      "Organic + Direct         NaN\n",
      "YouTube Ads         0.507982\n",
      "dtype: float64\n"
     ]
    }
   ],
   "source": [
    "import pandas as pd\n",
    "import numpy as np\n",
    "import warnings\n",
    "\n",
    "# Optional: silence runtime warnings from NumPy\n",
    "warnings.filterwarnings(\"ignore\", category=RuntimeWarning)\n",
    "\n",
    "# --- Load data ---\n",
    "df = pd.read_csv(\"channel_performance.csv\")\n",
    "\n",
    "# Normalize column names\n",
    "df.columns = [c.strip() for c in df.columns]\n",
    "\n",
    "# Ensure month is datetime\n",
    "df[\"month\"] = pd.to_datetime(df[\"month\"])\n",
    "\n",
    "# Columns that must be numeric\n",
    "numeric_cols = [\n",
    "    \"spend\",\n",
    "    \"visitors\",\n",
    "    \"last_click_email_captures\",\n",
    "    \"last_click_add_to_cart\",\n",
    "    \"last_click_orders\",\n",
    "    \"last_click_revenue\",\n",
    "    \"email_capture_conversion_30days_window\",\n",
    "    \"email_capture_conversion_60days_windo\",\n",
    "    \"cac\",\n",
    "]\n",
    "\n",
    "# Clean numerics: remove thousands separators, '%' and cast to float\n",
    "for col in numeric_cols:\n",
    "    if col in df.columns:\n",
    "        df[col] = (\n",
    "            df[col]\n",
    "            .astype(str)\n",
    "            .str.replace(\",\", \"\", regex=False)\n",
    "            .str.replace(\"%\", \"\", regex=False)\n",
    "            .str.strip()\n",
    "            .replace({\"\": np.nan})\n",
    "        )\n",
    "        df[col] = pd.to_numeric(df[col], errors=\"coerce\")\n",
    "\n",
    "# Organic has NaN spend — treat as 0\n",
    "if \"spend\" in df.columns:\n",
    "    df[\"spend\"] = df[\"spend\"].fillna(0.0)\n",
    "\n",
    "# --- Helper for safe correlation ---\n",
    "def safe_corr(x, y):\n",
    "    if x is None or y is None:\n",
    "        return np.nan\n",
    "    if x.nunique(dropna=True) <= 1 or y.nunique(dropna=True) <= 1:\n",
    "        return np.nan\n",
    "    return x.corr(y)\n",
    "\n",
    "# =========================\n",
    "# 1) Channel Summary\n",
    "# =========================\n",
    "summary = (\n",
    "    df.groupby(\"channel\", dropna=False)\n",
    "      .agg(\n",
    "          spend=(\"spend\", \"sum\"),\n",
    "          visitors=(\"visitors\", \"sum\"),\n",
    "          orders=(\"last_click_orders\", \"sum\"),\n",
    "          revenue=(\"last_click_revenue\", \"sum\"),\n",
    "      )\n",
    "      .reset_index()\n",
    ")\n",
    "\n",
    "# Safe CAC and Conversion\n",
    "summary[\"CAC\"] = np.where(summary[\"orders\"] > 0, summary[\"spend\"] / summary[\"orders\"], np.nan)\n",
    "summary[\"ConvRate\"] = np.where(summary[\"visitors\"] > 0, summary[\"orders\"] / summary[\"visitors\"], np.nan)\n",
    "\n",
    "# =========================\n",
    "# 2) Monthly Trends\n",
    "# =========================\n",
    "monthly = (\n",
    "    df.groupby([pd.Grouper(key=\"month\", freq=\"ME\"), \"channel\"])\n",
    "      .agg(\n",
    "          spend=(\"spend\",\"sum\"),\n",
    "          orders=(\"last_click_orders\",\"sum\"),\n",
    "          revenue=(\"last_click_revenue\",\"sum\"),\n",
    "      )\n",
    "      .reset_index()\n",
    ")\n",
    "monthly[\"CAC\"] = np.where(monthly[\"orders\"] > 0, monthly[\"spend\"] / monthly[\"orders\"], np.nan)\n",
    "\n",
    "# =========================\n",
    "# 3) Correlation (Spend vs Orders) by Channel\n",
    "# =========================\n",
    "corrs = df.groupby(\"channel\").apply(\n",
    "    lambda g: safe_corr(g[\"spend\"], g[\"last_click_orders\"]),\n",
    "    include_groups=False\n",
    ")\n",
    "\n",
    "# =========================\n",
    "# 4) Paid vs Organic correlation (monthly-aligned)\n",
    "# =========================\n",
    "df[\"_type\"] = np.where(df[\"channel\"].eq(\"Organic + Direct\"), \"Organic\", \"Paid\")\n",
    "paid_org_monthly = (\n",
    "    df.groupby([pd.Grouper(key=\"month\", freq=\"ME\"), \"_type\"])[\"last_click_orders\"]\n",
    "      .sum()\n",
    "      .unstack(\"_type\")\n",
    "      .fillna(0.0)\n",
    "      .sort_index()\n",
    ")\n",
    "\n",
    "# Ensure both columns exist\n",
    "for col in [\"Paid\", \"Organic\"]:\n",
    "    if col not in paid_org_monthly.columns:\n",
    "        paid_org_monthly[col] = 0.0\n",
    "\n",
    "paid_vs_org_corr = safe_corr(paid_org_monthly[\"Paid\"], paid_org_monthly[\"Organic\"])\n",
    "\n",
    "# =========================\n",
    "# 5) Lag Analysis (example: 1-month lead of spend vs orders)\n",
    "# =========================\n",
    "def lag_corr(g: pd.DataFrame, lag: int = 1) -> float:\n",
    "    g = g.sort_values(\"month\")\n",
    "    return safe_corr(g[\"spend\"], g[\"last_click_orders\"].shift(-lag))\n",
    "\n",
    "lagged_corrs = df.groupby(\"channel\").apply(\n",
    "    lambda g: lag_corr(g, lag=1),\n",
    "    include_groups=False\n",
    ")\n",
    "\n",
    "# --- (Optional) Print outputs ---\n",
    "print(summary)\n",
    "print(monthly)\n",
    "print(\"Spend vs Orders corr by channel:\\n\", corrs)\n",
    "print(\"Paid vs Organic corr (monthly):\", paid_vs_org_corr)\n",
    "print(\"Lag(1) corr spend->orders by channel:\\n\", lagged_corrs)\n"
   ]
  },
  {
   "cell_type": "code",
   "execution_count": 40,
   "id": "f5239c09-8398-437f-b4b7-e82e423b217f",
   "metadata": {},
   "outputs": [
    {
     "data": {
      "text/html": [
       "<div>\n",
       "<style scoped>\n",
       "    .dataframe tbody tr th:only-of-type {\n",
       "        vertical-align: middle;\n",
       "    }\n",
       "\n",
       "    .dataframe tbody tr th {\n",
       "        vertical-align: top;\n",
       "    }\n",
       "\n",
       "    .dataframe thead th {\n",
       "        text-align: right;\n",
       "    }\n",
       "</style>\n",
       "<table border=\"1\" class=\"dataframe\">\n",
       "  <thead>\n",
       "    <tr style=\"text-align: right;\">\n",
       "      <th></th>\n",
       "      <th>month</th>\n",
       "      <th>channel</th>\n",
       "      <th>spend</th>\n",
       "      <th>orders</th>\n",
       "      <th>revenue</th>\n",
       "      <th>CAC</th>\n",
       "    </tr>\n",
       "  </thead>\n",
       "  <tbody>\n",
       "    <tr>\n",
       "      <th>3</th>\n",
       "      <td>2024-01-31</td>\n",
       "      <td>YouTube Ads</td>\n",
       "      <td>1290.12</td>\n",
       "      <td>1</td>\n",
       "      <td>2783.0</td>\n",
       "      <td>1290.120000</td>\n",
       "    </tr>\n",
       "    <tr>\n",
       "      <th>7</th>\n",
       "      <td>2024-02-29</td>\n",
       "      <td>YouTube Ads</td>\n",
       "      <td>15360.90</td>\n",
       "      <td>10</td>\n",
       "      <td>29354.0</td>\n",
       "      <td>1536.090000</td>\n",
       "    </tr>\n",
       "    <tr>\n",
       "      <th>11</th>\n",
       "      <td>2024-03-31</td>\n",
       "      <td>YouTube Ads</td>\n",
       "      <td>7517.62</td>\n",
       "      <td>4</td>\n",
       "      <td>14526.0</td>\n",
       "      <td>1879.405000</td>\n",
       "    </tr>\n",
       "    <tr>\n",
       "      <th>15</th>\n",
       "      <td>2024-04-30</td>\n",
       "      <td>YouTube Ads</td>\n",
       "      <td>24451.47</td>\n",
       "      <td>12</td>\n",
       "      <td>41207.0</td>\n",
       "      <td>2037.622500</td>\n",
       "    </tr>\n",
       "    <tr>\n",
       "      <th>19</th>\n",
       "      <td>2024-05-31</td>\n",
       "      <td>YouTube Ads</td>\n",
       "      <td>56326.00</td>\n",
       "      <td>17</td>\n",
       "      <td>87322.0</td>\n",
       "      <td>3313.294118</td>\n",
       "    </tr>\n",
       "    <tr>\n",
       "      <th>23</th>\n",
       "      <td>2024-06-30</td>\n",
       "      <td>YouTube Ads</td>\n",
       "      <td>29621.08</td>\n",
       "      <td>16</td>\n",
       "      <td>64079.0</td>\n",
       "      <td>1851.317500</td>\n",
       "    </tr>\n",
       "    <tr>\n",
       "      <th>27</th>\n",
       "      <td>2024-07-31</td>\n",
       "      <td>YouTube Ads</td>\n",
       "      <td>42496.09</td>\n",
       "      <td>25</td>\n",
       "      <td>93358.0</td>\n",
       "      <td>1699.843600</td>\n",
       "    </tr>\n",
       "    <tr>\n",
       "      <th>31</th>\n",
       "      <td>2024-08-31</td>\n",
       "      <td>YouTube Ads</td>\n",
       "      <td>181725.33</td>\n",
       "      <td>84</td>\n",
       "      <td>377705.0</td>\n",
       "      <td>2163.396786</td>\n",
       "    </tr>\n",
       "    <tr>\n",
       "      <th>35</th>\n",
       "      <td>2024-09-30</td>\n",
       "      <td>YouTube Ads</td>\n",
       "      <td>62955.04</td>\n",
       "      <td>26</td>\n",
       "      <td>110277.0</td>\n",
       "      <td>2421.347692</td>\n",
       "    </tr>\n",
       "    <tr>\n",
       "      <th>39</th>\n",
       "      <td>2024-10-31</td>\n",
       "      <td>YouTube Ads</td>\n",
       "      <td>37274.53</td>\n",
       "      <td>18</td>\n",
       "      <td>65452.0</td>\n",
       "      <td>2070.807222</td>\n",
       "    </tr>\n",
       "    <tr>\n",
       "      <th>43</th>\n",
       "      <td>2024-11-30</td>\n",
       "      <td>YouTube Ads</td>\n",
       "      <td>93077.11</td>\n",
       "      <td>34</td>\n",
       "      <td>147885.0</td>\n",
       "      <td>2737.562059</td>\n",
       "    </tr>\n",
       "    <tr>\n",
       "      <th>47</th>\n",
       "      <td>2024-12-31</td>\n",
       "      <td>YouTube Ads</td>\n",
       "      <td>70552.37</td>\n",
       "      <td>28</td>\n",
       "      <td>111462.0</td>\n",
       "      <td>2519.727500</td>\n",
       "    </tr>\n",
       "    <tr>\n",
       "      <th>51</th>\n",
       "      <td>2025-01-31</td>\n",
       "      <td>YouTube Ads</td>\n",
       "      <td>48524.50</td>\n",
       "      <td>18</td>\n",
       "      <td>78859.0</td>\n",
       "      <td>2695.805556</td>\n",
       "    </tr>\n",
       "    <tr>\n",
       "      <th>55</th>\n",
       "      <td>2025-02-28</td>\n",
       "      <td>YouTube Ads</td>\n",
       "      <td>46853.77</td>\n",
       "      <td>15</td>\n",
       "      <td>74661.0</td>\n",
       "      <td>3123.584667</td>\n",
       "    </tr>\n",
       "    <tr>\n",
       "      <th>59</th>\n",
       "      <td>2025-03-31</td>\n",
       "      <td>YouTube Ads</td>\n",
       "      <td>152541.97</td>\n",
       "      <td>61</td>\n",
       "      <td>242381.0</td>\n",
       "      <td>2500.688033</td>\n",
       "    </tr>\n",
       "    <tr>\n",
       "      <th>63</th>\n",
       "      <td>2025-04-30</td>\n",
       "      <td>YouTube Ads</td>\n",
       "      <td>271208.06</td>\n",
       "      <td>125</td>\n",
       "      <td>555981.0</td>\n",
       "      <td>2169.664480</td>\n",
       "    </tr>\n",
       "    <tr>\n",
       "      <th>67</th>\n",
       "      <td>2025-05-31</td>\n",
       "      <td>YouTube Ads</td>\n",
       "      <td>811497.71</td>\n",
       "      <td>313</td>\n",
       "      <td>1738865.0</td>\n",
       "      <td>2592.644441</td>\n",
       "    </tr>\n",
       "    <tr>\n",
       "      <th>71</th>\n",
       "      <td>2025-06-30</td>\n",
       "      <td>YouTube Ads</td>\n",
       "      <td>316467.61</td>\n",
       "      <td>127</td>\n",
       "      <td>667467.0</td>\n",
       "      <td>2491.870945</td>\n",
       "    </tr>\n",
       "  </tbody>\n",
       "</table>\n",
       "</div>"
      ],
      "text/plain": [
       "        month      channel      spend  orders    revenue          CAC\n",
       "3  2024-01-31  YouTube Ads    1290.12       1     2783.0  1290.120000\n",
       "7  2024-02-29  YouTube Ads   15360.90      10    29354.0  1536.090000\n",
       "11 2024-03-31  YouTube Ads    7517.62       4    14526.0  1879.405000\n",
       "15 2024-04-30  YouTube Ads   24451.47      12    41207.0  2037.622500\n",
       "19 2024-05-31  YouTube Ads   56326.00      17    87322.0  3313.294118\n",
       "23 2024-06-30  YouTube Ads   29621.08      16    64079.0  1851.317500\n",
       "27 2024-07-31  YouTube Ads   42496.09      25    93358.0  1699.843600\n",
       "31 2024-08-31  YouTube Ads  181725.33      84   377705.0  2163.396786\n",
       "35 2024-09-30  YouTube Ads   62955.04      26   110277.0  2421.347692\n",
       "39 2024-10-31  YouTube Ads   37274.53      18    65452.0  2070.807222\n",
       "43 2024-11-30  YouTube Ads   93077.11      34   147885.0  2737.562059\n",
       "47 2024-12-31  YouTube Ads   70552.37      28   111462.0  2519.727500\n",
       "51 2025-01-31  YouTube Ads   48524.50      18    78859.0  2695.805556\n",
       "55 2025-02-28  YouTube Ads   46853.77      15    74661.0  3123.584667\n",
       "59 2025-03-31  YouTube Ads  152541.97      61   242381.0  2500.688033\n",
       "63 2025-04-30  YouTube Ads  271208.06     125   555981.0  2169.664480\n",
       "67 2025-05-31  YouTube Ads  811497.71     313  1738865.0  2592.644441\n",
       "71 2025-06-30  YouTube Ads  316467.61     127   667467.0  2491.870945"
      ]
     },
     "execution_count": 40,
     "metadata": {},
     "output_type": "execute_result"
    }
   ],
   "source": [
    "monthly[monthly[\"channel\"]==\"YouTube Ads\"]"
   ]
  },
  {
   "cell_type": "code",
   "execution_count": 41,
   "id": "3216006f-9355-4f02-a83d-2e5d8b9a5968",
   "metadata": {},
   "outputs": [
    {
     "data": {
      "text/html": [
       "<div>\n",
       "<style scoped>\n",
       "    .dataframe tbody tr th:only-of-type {\n",
       "        vertical-align: middle;\n",
       "    }\n",
       "\n",
       "    .dataframe tbody tr th {\n",
       "        vertical-align: top;\n",
       "    }\n",
       "\n",
       "    .dataframe thead th {\n",
       "        text-align: right;\n",
       "    }\n",
       "</style>\n",
       "<table border=\"1\" class=\"dataframe\">\n",
       "  <thead>\n",
       "    <tr style=\"text-align: right;\">\n",
       "      <th></th>\n",
       "      <th>month</th>\n",
       "      <th>channel</th>\n",
       "      <th>spend</th>\n",
       "      <th>orders</th>\n",
       "      <th>revenue</th>\n",
       "      <th>CAC</th>\n",
       "    </tr>\n",
       "  </thead>\n",
       "  <tbody>\n",
       "    <tr>\n",
       "      <th>0</th>\n",
       "      <td>2024-01-31</td>\n",
       "      <td>FB Ads</td>\n",
       "      <td>27889.50</td>\n",
       "      <td>27</td>\n",
       "      <td>77699.0</td>\n",
       "      <td>1032.944444</td>\n",
       "    </tr>\n",
       "    <tr>\n",
       "      <th>4</th>\n",
       "      <td>2024-02-29</td>\n",
       "      <td>FB Ads</td>\n",
       "      <td>39846.47</td>\n",
       "      <td>51</td>\n",
       "      <td>135766.0</td>\n",
       "      <td>781.303333</td>\n",
       "    </tr>\n",
       "    <tr>\n",
       "      <th>8</th>\n",
       "      <td>2024-03-31</td>\n",
       "      <td>FB Ads</td>\n",
       "      <td>94199.38</td>\n",
       "      <td>85</td>\n",
       "      <td>250846.0</td>\n",
       "      <td>1108.228000</td>\n",
       "    </tr>\n",
       "    <tr>\n",
       "      <th>12</th>\n",
       "      <td>2024-04-30</td>\n",
       "      <td>FB Ads</td>\n",
       "      <td>78373.66</td>\n",
       "      <td>77</td>\n",
       "      <td>245805.0</td>\n",
       "      <td>1017.839740</td>\n",
       "    </tr>\n",
       "    <tr>\n",
       "      <th>16</th>\n",
       "      <td>2024-05-31</td>\n",
       "      <td>FB Ads</td>\n",
       "      <td>182075.79</td>\n",
       "      <td>132</td>\n",
       "      <td>570084.0</td>\n",
       "      <td>1379.362045</td>\n",
       "    </tr>\n",
       "    <tr>\n",
       "      <th>20</th>\n",
       "      <td>2024-06-30</td>\n",
       "      <td>FB Ads</td>\n",
       "      <td>93312.63</td>\n",
       "      <td>78</td>\n",
       "      <td>297865.0</td>\n",
       "      <td>1196.315769</td>\n",
       "    </tr>\n",
       "    <tr>\n",
       "      <th>24</th>\n",
       "      <td>2024-07-31</td>\n",
       "      <td>FB Ads</td>\n",
       "      <td>73910.60</td>\n",
       "      <td>56</td>\n",
       "      <td>197945.0</td>\n",
       "      <td>1319.832143</td>\n",
       "    </tr>\n",
       "    <tr>\n",
       "      <th>28</th>\n",
       "      <td>2024-08-31</td>\n",
       "      <td>FB Ads</td>\n",
       "      <td>77623.58</td>\n",
       "      <td>57</td>\n",
       "      <td>225121.0</td>\n",
       "      <td>1361.817193</td>\n",
       "    </tr>\n",
       "    <tr>\n",
       "      <th>32</th>\n",
       "      <td>2024-09-30</td>\n",
       "      <td>FB Ads</td>\n",
       "      <td>84216.80</td>\n",
       "      <td>72</td>\n",
       "      <td>273306.0</td>\n",
       "      <td>1169.677778</td>\n",
       "    </tr>\n",
       "    <tr>\n",
       "      <th>36</th>\n",
       "      <td>2024-10-31</td>\n",
       "      <td>FB Ads</td>\n",
       "      <td>61639.10</td>\n",
       "      <td>49</td>\n",
       "      <td>185663.0</td>\n",
       "      <td>1257.940816</td>\n",
       "    </tr>\n",
       "    <tr>\n",
       "      <th>40</th>\n",
       "      <td>2024-11-30</td>\n",
       "      <td>FB Ads</td>\n",
       "      <td>217516.66</td>\n",
       "      <td>148</td>\n",
       "      <td>638630.0</td>\n",
       "      <td>1469.707162</td>\n",
       "    </tr>\n",
       "    <tr>\n",
       "      <th>44</th>\n",
       "      <td>2024-12-31</td>\n",
       "      <td>FB Ads</td>\n",
       "      <td>157971.97</td>\n",
       "      <td>123</td>\n",
       "      <td>473661.0</td>\n",
       "      <td>1284.324959</td>\n",
       "    </tr>\n",
       "    <tr>\n",
       "      <th>48</th>\n",
       "      <td>2025-01-31</td>\n",
       "      <td>FB Ads</td>\n",
       "      <td>78859.15</td>\n",
       "      <td>69</td>\n",
       "      <td>271505.0</td>\n",
       "      <td>1142.886232</td>\n",
       "    </tr>\n",
       "    <tr>\n",
       "      <th>52</th>\n",
       "      <td>2025-02-28</td>\n",
       "      <td>FB Ads</td>\n",
       "      <td>103444.47</td>\n",
       "      <td>68</td>\n",
       "      <td>263021.0</td>\n",
       "      <td>1521.242206</td>\n",
       "    </tr>\n",
       "    <tr>\n",
       "      <th>56</th>\n",
       "      <td>2025-03-31</td>\n",
       "      <td>FB Ads</td>\n",
       "      <td>160658.54</td>\n",
       "      <td>114</td>\n",
       "      <td>447771.0</td>\n",
       "      <td>1409.285439</td>\n",
       "    </tr>\n",
       "    <tr>\n",
       "      <th>60</th>\n",
       "      <td>2025-04-30</td>\n",
       "      <td>FB Ads</td>\n",
       "      <td>102637.52</td>\n",
       "      <td>81</td>\n",
       "      <td>310507.0</td>\n",
       "      <td>1267.129877</td>\n",
       "    </tr>\n",
       "    <tr>\n",
       "      <th>64</th>\n",
       "      <td>2025-05-31</td>\n",
       "      <td>FB Ads</td>\n",
       "      <td>287075.90</td>\n",
       "      <td>180</td>\n",
       "      <td>901498.0</td>\n",
       "      <td>1594.866111</td>\n",
       "    </tr>\n",
       "    <tr>\n",
       "      <th>68</th>\n",
       "      <td>2025-06-30</td>\n",
       "      <td>FB Ads</td>\n",
       "      <td>246595.36</td>\n",
       "      <td>143</td>\n",
       "      <td>697405.0</td>\n",
       "      <td>1724.443077</td>\n",
       "    </tr>\n",
       "  </tbody>\n",
       "</table>\n",
       "</div>"
      ],
      "text/plain": [
       "        month channel      spend  orders   revenue          CAC\n",
       "0  2024-01-31  FB Ads   27889.50      27   77699.0  1032.944444\n",
       "4  2024-02-29  FB Ads   39846.47      51  135766.0   781.303333\n",
       "8  2024-03-31  FB Ads   94199.38      85  250846.0  1108.228000\n",
       "12 2024-04-30  FB Ads   78373.66      77  245805.0  1017.839740\n",
       "16 2024-05-31  FB Ads  182075.79     132  570084.0  1379.362045\n",
       "20 2024-06-30  FB Ads   93312.63      78  297865.0  1196.315769\n",
       "24 2024-07-31  FB Ads   73910.60      56  197945.0  1319.832143\n",
       "28 2024-08-31  FB Ads   77623.58      57  225121.0  1361.817193\n",
       "32 2024-09-30  FB Ads   84216.80      72  273306.0  1169.677778\n",
       "36 2024-10-31  FB Ads   61639.10      49  185663.0  1257.940816\n",
       "40 2024-11-30  FB Ads  217516.66     148  638630.0  1469.707162\n",
       "44 2024-12-31  FB Ads  157971.97     123  473661.0  1284.324959\n",
       "48 2025-01-31  FB Ads   78859.15      69  271505.0  1142.886232\n",
       "52 2025-02-28  FB Ads  103444.47      68  263021.0  1521.242206\n",
       "56 2025-03-31  FB Ads  160658.54     114  447771.0  1409.285439\n",
       "60 2025-04-30  FB Ads  102637.52      81  310507.0  1267.129877\n",
       "64 2025-05-31  FB Ads  287075.90     180  901498.0  1594.866111\n",
       "68 2025-06-30  FB Ads  246595.36     143  697405.0  1724.443077"
      ]
     },
     "execution_count": 41,
     "metadata": {},
     "output_type": "execute_result"
    }
   ],
   "source": [
    "monthly[monthly[\"channel\"]==\"FB Ads\"]"
   ]
  },
  {
   "cell_type": "code",
   "execution_count": 42,
   "id": "3f35b419-e8da-49e7-8a3e-86c69768ee2f",
   "metadata": {},
   "outputs": [
    {
     "data": {
      "text/html": [
       "<div>\n",
       "<style scoped>\n",
       "    .dataframe tbody tr th:only-of-type {\n",
       "        vertical-align: middle;\n",
       "    }\n",
       "\n",
       "    .dataframe tbody tr th {\n",
       "        vertical-align: top;\n",
       "    }\n",
       "\n",
       "    .dataframe thead th {\n",
       "        text-align: right;\n",
       "    }\n",
       "</style>\n",
       "<table border=\"1\" class=\"dataframe\">\n",
       "  <thead>\n",
       "    <tr style=\"text-align: right;\">\n",
       "      <th></th>\n",
       "      <th>month</th>\n",
       "      <th>channel</th>\n",
       "      <th>spend</th>\n",
       "      <th>orders</th>\n",
       "      <th>revenue</th>\n",
       "      <th>CAC</th>\n",
       "    </tr>\n",
       "  </thead>\n",
       "  <tbody>\n",
       "    <tr>\n",
       "      <th>1</th>\n",
       "      <td>2024-01-31</td>\n",
       "      <td>Google Ads</td>\n",
       "      <td>279224.05</td>\n",
       "      <td>467</td>\n",
       "      <td>1282303.0</td>\n",
       "      <td>597.910171</td>\n",
       "    </tr>\n",
       "    <tr>\n",
       "      <th>5</th>\n",
       "      <td>2024-02-29</td>\n",
       "      <td>Google Ads</td>\n",
       "      <td>264887.49</td>\n",
       "      <td>475</td>\n",
       "      <td>1313599.0</td>\n",
       "      <td>557.657874</td>\n",
       "    </tr>\n",
       "    <tr>\n",
       "      <th>9</th>\n",
       "      <td>2024-03-31</td>\n",
       "      <td>Google Ads</td>\n",
       "      <td>477058.25</td>\n",
       "      <td>676</td>\n",
       "      <td>1969466.0</td>\n",
       "      <td>705.707470</td>\n",
       "    </tr>\n",
       "    <tr>\n",
       "      <th>13</th>\n",
       "      <td>2024-04-30</td>\n",
       "      <td>Google Ads</td>\n",
       "      <td>464066.43</td>\n",
       "      <td>719</td>\n",
       "      <td>2169737.0</td>\n",
       "      <td>645.433143</td>\n",
       "    </tr>\n",
       "    <tr>\n",
       "      <th>17</th>\n",
       "      <td>2024-05-31</td>\n",
       "      <td>Google Ads</td>\n",
       "      <td>973699.16</td>\n",
       "      <td>1125</td>\n",
       "      <td>4421151.0</td>\n",
       "      <td>865.510364</td>\n",
       "    </tr>\n",
       "    <tr>\n",
       "      <th>21</th>\n",
       "      <td>2024-06-30</td>\n",
       "      <td>Google Ads</td>\n",
       "      <td>714418.72</td>\n",
       "      <td>927</td>\n",
       "      <td>3367327.0</td>\n",
       "      <td>770.678231</td>\n",
       "    </tr>\n",
       "    <tr>\n",
       "      <th>25</th>\n",
       "      <td>2024-07-31</td>\n",
       "      <td>Google Ads</td>\n",
       "      <td>664583.25</td>\n",
       "      <td>888</td>\n",
       "      <td>3162090.0</td>\n",
       "      <td>748.404561</td>\n",
       "    </tr>\n",
       "    <tr>\n",
       "      <th>29</th>\n",
       "      <td>2024-08-31</td>\n",
       "      <td>Google Ads</td>\n",
       "      <td>570363.22</td>\n",
       "      <td>668</td>\n",
       "      <td>2534017.0</td>\n",
       "      <td>853.837156</td>\n",
       "    </tr>\n",
       "    <tr>\n",
       "      <th>33</th>\n",
       "      <td>2024-09-30</td>\n",
       "      <td>Google Ads</td>\n",
       "      <td>480082.09</td>\n",
       "      <td>606</td>\n",
       "      <td>2347544.0</td>\n",
       "      <td>792.214670</td>\n",
       "    </tr>\n",
       "    <tr>\n",
       "      <th>37</th>\n",
       "      <td>2024-10-31</td>\n",
       "      <td>Google Ads</td>\n",
       "      <td>434172.05</td>\n",
       "      <td>472</td>\n",
       "      <td>1827996.0</td>\n",
       "      <td>919.856038</td>\n",
       "    </tr>\n",
       "    <tr>\n",
       "      <th>41</th>\n",
       "      <td>2024-11-30</td>\n",
       "      <td>Google Ads</td>\n",
       "      <td>689208.02</td>\n",
       "      <td>865</td>\n",
       "      <td>3299077.0</td>\n",
       "      <td>796.772277</td>\n",
       "    </tr>\n",
       "    <tr>\n",
       "      <th>45</th>\n",
       "      <td>2024-12-31</td>\n",
       "      <td>Google Ads</td>\n",
       "      <td>759007.47</td>\n",
       "      <td>892</td>\n",
       "      <td>3405033.0</td>\n",
       "      <td>850.905235</td>\n",
       "    </tr>\n",
       "    <tr>\n",
       "      <th>49</th>\n",
       "      <td>2025-01-31</td>\n",
       "      <td>Google Ads</td>\n",
       "      <td>524883.96</td>\n",
       "      <td>602</td>\n",
       "      <td>2254399.0</td>\n",
       "      <td>871.900266</td>\n",
       "    </tr>\n",
       "    <tr>\n",
       "      <th>53</th>\n",
       "      <td>2025-02-28</td>\n",
       "      <td>Google Ads</td>\n",
       "      <td>486660.13</td>\n",
       "      <td>665</td>\n",
       "      <td>2381611.0</td>\n",
       "      <td>731.819744</td>\n",
       "    </tr>\n",
       "    <tr>\n",
       "      <th>57</th>\n",
       "      <td>2025-03-31</td>\n",
       "      <td>Google Ads</td>\n",
       "      <td>444135.62</td>\n",
       "      <td>501</td>\n",
       "      <td>1872928.0</td>\n",
       "      <td>886.498244</td>\n",
       "    </tr>\n",
       "    <tr>\n",
       "      <th>61</th>\n",
       "      <td>2025-04-30</td>\n",
       "      <td>Google Ads</td>\n",
       "      <td>510478.36</td>\n",
       "      <td>620</td>\n",
       "      <td>2230313.0</td>\n",
       "      <td>823.352194</td>\n",
       "    </tr>\n",
       "    <tr>\n",
       "      <th>65</th>\n",
       "      <td>2025-05-31</td>\n",
       "      <td>Google Ads</td>\n",
       "      <td>860103.61</td>\n",
       "      <td>860</td>\n",
       "      <td>3930222.0</td>\n",
       "      <td>1000.120477</td>\n",
       "    </tr>\n",
       "    <tr>\n",
       "      <th>69</th>\n",
       "      <td>2025-06-30</td>\n",
       "      <td>Google Ads</td>\n",
       "      <td>659430.64</td>\n",
       "      <td>689</td>\n",
       "      <td>3095706.0</td>\n",
       "      <td>957.083657</td>\n",
       "    </tr>\n",
       "  </tbody>\n",
       "</table>\n",
       "</div>"
      ],
      "text/plain": [
       "        month     channel      spend  orders    revenue          CAC\n",
       "1  2024-01-31  Google Ads  279224.05     467  1282303.0   597.910171\n",
       "5  2024-02-29  Google Ads  264887.49     475  1313599.0   557.657874\n",
       "9  2024-03-31  Google Ads  477058.25     676  1969466.0   705.707470\n",
       "13 2024-04-30  Google Ads  464066.43     719  2169737.0   645.433143\n",
       "17 2024-05-31  Google Ads  973699.16    1125  4421151.0   865.510364\n",
       "21 2024-06-30  Google Ads  714418.72     927  3367327.0   770.678231\n",
       "25 2024-07-31  Google Ads  664583.25     888  3162090.0   748.404561\n",
       "29 2024-08-31  Google Ads  570363.22     668  2534017.0   853.837156\n",
       "33 2024-09-30  Google Ads  480082.09     606  2347544.0   792.214670\n",
       "37 2024-10-31  Google Ads  434172.05     472  1827996.0   919.856038\n",
       "41 2024-11-30  Google Ads  689208.02     865  3299077.0   796.772277\n",
       "45 2024-12-31  Google Ads  759007.47     892  3405033.0   850.905235\n",
       "49 2025-01-31  Google Ads  524883.96     602  2254399.0   871.900266\n",
       "53 2025-02-28  Google Ads  486660.13     665  2381611.0   731.819744\n",
       "57 2025-03-31  Google Ads  444135.62     501  1872928.0   886.498244\n",
       "61 2025-04-30  Google Ads  510478.36     620  2230313.0   823.352194\n",
       "65 2025-05-31  Google Ads  860103.61     860  3930222.0  1000.120477\n",
       "69 2025-06-30  Google Ads  659430.64     689  3095706.0   957.083657"
      ]
     },
     "execution_count": 42,
     "metadata": {},
     "output_type": "execute_result"
    }
   ],
   "source": [
    "monthly[monthly[\"channel\"]==\"Google Ads\"]"
   ]
  },
  {
   "cell_type": "code",
   "execution_count": 47,
   "id": "ef067bc0-967d-4bfc-982b-7109a4233521",
   "metadata": {},
   "outputs": [
    {
     "data": {
      "application/vnd.plotly.v1+json": {
       "config": {
        "plotlyServerURL": "https://plot.ly"
       },
       "data": [
        {
         "mode": "lines+markers",
         "name": "CAC - FB Ads",
         "type": "scatter",
         "x": [
          "2024-01-31T00:00:00.000000000",
          "2024-02-29T00:00:00.000000000",
          "2024-03-31T00:00:00.000000000",
          "2024-04-30T00:00:00.000000000",
          "2024-05-31T00:00:00.000000000",
          "2024-06-30T00:00:00.000000000",
          "2024-07-31T00:00:00.000000000",
          "2024-08-31T00:00:00.000000000",
          "2024-09-30T00:00:00.000000000",
          "2024-10-31T00:00:00.000000000",
          "2024-11-30T00:00:00.000000000",
          "2024-12-31T00:00:00.000000000",
          "2025-01-31T00:00:00.000000000",
          "2025-02-28T00:00:00.000000000",
          "2025-03-31T00:00:00.000000000",
          "2025-04-30T00:00:00.000000000",
          "2025-05-31T00:00:00.000000000",
          "2025-06-30T00:00:00.000000000"
         ],
         "xaxis": "x",
         "y": {
          "bdata": "HMdxHMcjkECh0wY6bWqIQPT91HjpUJFAwcW9ybfOj0DBKwu8co2VQPNcAllDsZJAHtRBHVSflECuuDzOREeVQAy2YAu2RpJA+OdaZcOnk0DSXVEi1PaWQCLMJMJMEZRAzvpegIvbkUBrntEE+MSXQMnzA0okBZZAa0Zb/oTMk0Czw9TlduuYQOn49LXF8ZpA",
          "dtype": "f8"
         },
         "yaxis": "y"
        },
        {
         "mode": "lines+markers",
         "name": "CAC - Google Ads",
         "type": "scatter",
         "x": [
          "2024-01-31T00:00:00.000000000",
          "2024-02-29T00:00:00.000000000",
          "2024-03-31T00:00:00.000000000",
          "2024-04-30T00:00:00.000000000",
          "2024-05-31T00:00:00.000000000",
          "2024-06-30T00:00:00.000000000",
          "2024-07-31T00:00:00.000000000",
          "2024-08-31T00:00:00.000000000",
          "2024-09-30T00:00:00.000000000",
          "2024-10-31T00:00:00.000000000",
          "2024-11-30T00:00:00.000000000",
          "2024-12-31T00:00:00.000000000",
          "2025-01-31T00:00:00.000000000",
          "2025-02-28T00:00:00.000000000",
          "2025-03-31T00:00:00.000000000",
          "2025-04-30T00:00:00.000000000",
          "2025-05-31T00:00:00.000000000",
          "2025-06-30T00:00:00.000000000"
         ],
         "xaxis": "x",
         "y": {
          "bdata": "bs/kB0ivgkCqNEdTQ22BQA6fP+aoDYZALYXPE3crhEBxL/Q5FQyLQBcLTARtFYhAaN1gijxjh0Bcgq5+sq6KQHo946S3wYhAA6SFKtm+jEDpnc2fLeaIQB0vEuw9l4pAk6+LvjM/i0A/qSHWjt6GQFdNGGf8s4tAeuHZStG6iUCp4YK89kCPQNArnFSr6I1A",
          "dtype": "f8"
         },
         "yaxis": "y"
        },
        {
         "mode": "lines+markers",
         "name": "CAC - Organic + Direct",
         "type": "scatter",
         "x": [
          "2024-01-31T00:00:00.000000000",
          "2024-02-29T00:00:00.000000000",
          "2024-03-31T00:00:00.000000000",
          "2024-04-30T00:00:00.000000000",
          "2024-05-31T00:00:00.000000000",
          "2024-06-30T00:00:00.000000000",
          "2024-07-31T00:00:00.000000000",
          "2024-08-31T00:00:00.000000000",
          "2024-09-30T00:00:00.000000000",
          "2024-10-31T00:00:00.000000000",
          "2024-11-30T00:00:00.000000000",
          "2024-12-31T00:00:00.000000000",
          "2025-01-31T00:00:00.000000000",
          "2025-02-28T00:00:00.000000000",
          "2025-03-31T00:00:00.000000000",
          "2025-04-30T00:00:00.000000000",
          "2025-05-31T00:00:00.000000000",
          "2025-06-30T00:00:00.000000000"
         ],
         "xaxis": "x",
         "y": {
          "bdata": "AAAAAAAAAAAAAAAAAAAAAAAAAAAAAAAAAAAAAAAAAAAAAAAAAAAAAAAAAAAAAAAAAAAAAAAAAAAAAAAAAAAAAAAAAAAAAAAAAAAAAAAAAAAAAAAAAAAAAAAAAAAAAAAAAAAAAAAAAAAAAAAAAAAAAAAAAAAAAAAAAAAAAAAAAAAAAAAAAAAAAAAAAAAAAAAA",
          "dtype": "f8"
         },
         "yaxis": "y"
        },
        {
         "mode": "lines+markers",
         "name": "CAC - YouTube Ads",
         "type": "scatter",
         "x": [
          "2024-01-31T00:00:00.000000000",
          "2024-02-29T00:00:00.000000000",
          "2024-03-31T00:00:00.000000000",
          "2024-04-30T00:00:00.000000000",
          "2024-05-31T00:00:00.000000000",
          "2024-06-30T00:00:00.000000000",
          "2024-07-31T00:00:00.000000000",
          "2024-08-31T00:00:00.000000000",
          "2024-09-30T00:00:00.000000000",
          "2024-10-31T00:00:00.000000000",
          "2024-11-30T00:00:00.000000000",
          "2024-12-31T00:00:00.000000000",
          "2025-01-31T00:00:00.000000000",
          "2025-02-28T00:00:00.000000000",
          "2025-03-31T00:00:00.000000000",
          "2025-04-30T00:00:00.000000000",
          "2025-05-31T00:00:00.000000000",
          "2025-06-30T00:00:00.000000000"
         ],
         "xaxis": "x",
         "y": {
          "bdata": "FK5H4XoolECPwvUoXACYQIXrUbieXZ1AC9ejcH3Wn0CXlpaWluKpQOxRuB5F7ZxAn6ut2F+PmkDBRH8ny+agQDjluQSy6qJAGSo7TJ0toED5kizGH2OlQK5H4Xp0r6NAchzHcZwPpUDK6G1ZK2eoQH9c1UVgiaNAsfm4NlTzoEDBLCj0SUGkQKvQfOy9d6NA",
          "dtype": "f8"
         },
         "yaxis": "y"
        },
        {
         "mode": "lines+markers",
         "name": "ROI - FB Ads",
         "type": "scatter",
         "x": [
          "2024-01-31T00:00:00.000000000",
          "2024-02-29T00:00:00.000000000",
          "2024-03-31T00:00:00.000000000",
          "2024-04-30T00:00:00.000000000",
          "2024-05-31T00:00:00.000000000",
          "2024-06-30T00:00:00.000000000",
          "2024-07-31T00:00:00.000000000",
          "2024-08-31T00:00:00.000000000",
          "2024-09-30T00:00:00.000000000",
          "2024-10-31T00:00:00.000000000",
          "2024-11-30T00:00:00.000000000",
          "2024-12-31T00:00:00.000000000",
          "2025-01-31T00:00:00.000000000",
          "2025-02-28T00:00:00.000000000",
          "2025-03-31T00:00:00.000000000",
          "2025-04-30T00:00:00.000000000",
          "2025-05-31T00:00:00.000000000",
          "2025-06-30T00:00:00.000000000"
         ],
         "xaxis": "x2",
         "y": {
          "bdata": "MWpKzqRJBkDRzQelAEILQAgqokSsTQVAtnbBwi8XCUARvRlEVwwJQL1MH5R1iQlAIexLUeNsBUARvslsiDMHQNj+fIhO9glA9TGqwMYYCEB78qov8HwHQF3Iz/yx/AdAI7SUsBSLC0CumzFVTlcEQO/zebn5SwZA3nrjysQzCECfMjjUSR8JQPzyWE8FoAZA",
          "dtype": "f8"
         },
         "yaxis": "y2"
        },
        {
         "mode": "lines+markers",
         "name": "ROI - Google Ads",
         "type": "scatter",
         "x": [
          "2024-01-31T00:00:00.000000000",
          "2024-02-29T00:00:00.000000000",
          "2024-03-31T00:00:00.000000000",
          "2024-04-30T00:00:00.000000000",
          "2024-05-31T00:00:00.000000000",
          "2024-06-30T00:00:00.000000000",
          "2024-07-31T00:00:00.000000000",
          "2024-08-31T00:00:00.000000000",
          "2024-09-30T00:00:00.000000000",
          "2024-10-31T00:00:00.000000000",
          "2024-11-30T00:00:00.000000000",
          "2024-12-31T00:00:00.000000000",
          "2025-01-31T00:00:00.000000000",
          "2025-02-28T00:00:00.000000000",
          "2025-03-31T00:00:00.000000000",
          "2025-04-30T00:00:00.000000000",
          "2025-05-31T00:00:00.000000000",
          "2025-06-30T00:00:00.000000000"
         ],
         "xaxis": "x2",
         "y": {
          "bdata": "cVOe6pheEkDOX07OGdYTQLf0uphvgxBAxSbCHLOzEkCLdQWriykSQACLL1KA2hJAy7RlSzIIE0CIS0W2cMURQAi+a848jxNAPRBCvVnXEECOmCXKpSUTQD5FRFPV8RFA2bDGqR8uEUAWnszjPJMTQO+79AU63hBAA6EFG+x5EUD2/794JEcSQJqww4cuxxJA",
          "dtype": "f8"
         },
         "yaxis": "y2"
        },
        {
         "mode": "lines+markers",
         "name": "ROI - Organic + Direct",
         "type": "scatter",
         "x": [
          "2024-01-31T00:00:00.000000000",
          "2024-02-29T00:00:00.000000000",
          "2024-03-31T00:00:00.000000000",
          "2024-04-30T00:00:00.000000000",
          "2024-05-31T00:00:00.000000000",
          "2024-06-30T00:00:00.000000000",
          "2024-07-31T00:00:00.000000000",
          "2024-08-31T00:00:00.000000000",
          "2024-09-30T00:00:00.000000000",
          "2024-10-31T00:00:00.000000000",
          "2024-11-30T00:00:00.000000000",
          "2024-12-31T00:00:00.000000000",
          "2025-01-31T00:00:00.000000000",
          "2025-02-28T00:00:00.000000000",
          "2025-03-31T00:00:00.000000000",
          "2025-04-30T00:00:00.000000000",
          "2025-05-31T00:00:00.000000000",
          "2025-06-30T00:00:00.000000000"
         ],
         "xaxis": "x2",
         "y": {
          "bdata": "AAAAAAAA+H8AAAAAAAD4fwAAAAAAAPh/AAAAAAAA+H8AAAAAAAD4fwAAAAAAAPh/AAAAAAAA+H8AAAAAAAD4fwAAAAAAAPh/AAAAAAAA+H8AAAAAAAD4fwAAAAAAAPh/AAAAAAAA+H8AAAAAAAD4fwAAAAAAAPh/AAAAAAAA+H8AAAAAAAD4fwAAAAAAAPh/",
          "dtype": "f8"
         },
         "yaxis": "y2"
        },
        {
         "mode": "lines+markers",
         "name": "ROI - YouTube Ads",
         "type": "scatter",
         "x": [
          "2024-01-31T00:00:00.000000000",
          "2024-02-29T00:00:00.000000000",
          "2024-03-31T00:00:00.000000000",
          "2024-04-30T00:00:00.000000000",
          "2024-05-31T00:00:00.000000000",
          "2024-06-30T00:00:00.000000000",
          "2024-07-31T00:00:00.000000000",
          "2024-08-31T00:00:00.000000000",
          "2024-09-30T00:00:00.000000000",
          "2024-10-31T00:00:00.000000000",
          "2024-11-30T00:00:00.000000000",
          "2024-12-31T00:00:00.000000000",
          "2025-01-31T00:00:00.000000000",
          "2025-02-28T00:00:00.000000000",
          "2025-03-31T00:00:00.000000000",
          "2025-04-30T00:00:00.000000000",
          "2025-05-31T00:00:00.000000000",
          "2025-06-30T00:00:00.000000000"
         ],
         "xaxis": "x2",
         "y": {
          "bdata": "NopXB99BAUC9m/9SRpP+PwImAPaJ6v4/xzjBks/2+j/UpsWwA874P5MQjDtrTgFAd2Nk0yuTAUDBpKWWpKAAQHKIZzPgBvw/5NbDF1kY/D9JQEWZ52v5Pz/cwmMOR/k/j6/2gpAA+j+4KNEO7375P9ZjqvZSbPk/nvQDDm9mAEA30ltibCQBQNYLImB43wBA",
          "dtype": "f8"
         },
         "yaxis": "y2"
        }
       ],
       "layout": {
        "annotations": [
         {
          "font": {
           "size": 16
          },
          "showarrow": false,
          "text": "Monthly CAC by Channel",
          "x": 0.225,
          "xanchor": "center",
          "xref": "paper",
          "y": 1,
          "yanchor": "bottom",
          "yref": "paper"
         },
         {
          "font": {
           "size": 16
          },
          "showarrow": false,
          "text": "Monthly ROI (Revenue/Spend) by Channel",
          "x": 0.775,
          "xanchor": "center",
          "xref": "paper",
          "y": 1,
          "yanchor": "bottom",
          "yref": "paper"
         }
        ],
        "height": 500,
        "hovermode": "x unified",
        "legend": {
         "orientation": "h",
         "x": 0.5,
         "y": -0.2
        },
        "template": {
         "data": {
          "bar": [
           {
            "error_x": {
             "color": "#2a3f5f"
            },
            "error_y": {
             "color": "#2a3f5f"
            },
            "marker": {
             "line": {
              "color": "#E5ECF6",
              "width": 0.5
             },
             "pattern": {
              "fillmode": "overlay",
              "size": 10,
              "solidity": 0.2
             }
            },
            "type": "bar"
           }
          ],
          "barpolar": [
           {
            "marker": {
             "line": {
              "color": "#E5ECF6",
              "width": 0.5
             },
             "pattern": {
              "fillmode": "overlay",
              "size": 10,
              "solidity": 0.2
             }
            },
            "type": "barpolar"
           }
          ],
          "carpet": [
           {
            "aaxis": {
             "endlinecolor": "#2a3f5f",
             "gridcolor": "white",
             "linecolor": "white",
             "minorgridcolor": "white",
             "startlinecolor": "#2a3f5f"
            },
            "baxis": {
             "endlinecolor": "#2a3f5f",
             "gridcolor": "white",
             "linecolor": "white",
             "minorgridcolor": "white",
             "startlinecolor": "#2a3f5f"
            },
            "type": "carpet"
           }
          ],
          "choropleth": [
           {
            "colorbar": {
             "outlinewidth": 0,
             "ticks": ""
            },
            "type": "choropleth"
           }
          ],
          "contour": [
           {
            "colorbar": {
             "outlinewidth": 0,
             "ticks": ""
            },
            "colorscale": [
             [
              0,
              "#0d0887"
             ],
             [
              0.1111111111111111,
              "#46039f"
             ],
             [
              0.2222222222222222,
              "#7201a8"
             ],
             [
              0.3333333333333333,
              "#9c179e"
             ],
             [
              0.4444444444444444,
              "#bd3786"
             ],
             [
              0.5555555555555556,
              "#d8576b"
             ],
             [
              0.6666666666666666,
              "#ed7953"
             ],
             [
              0.7777777777777778,
              "#fb9f3a"
             ],
             [
              0.8888888888888888,
              "#fdca26"
             ],
             [
              1,
              "#f0f921"
             ]
            ],
            "type": "contour"
           }
          ],
          "contourcarpet": [
           {
            "colorbar": {
             "outlinewidth": 0,
             "ticks": ""
            },
            "type": "contourcarpet"
           }
          ],
          "heatmap": [
           {
            "colorbar": {
             "outlinewidth": 0,
             "ticks": ""
            },
            "colorscale": [
             [
              0,
              "#0d0887"
             ],
             [
              0.1111111111111111,
              "#46039f"
             ],
             [
              0.2222222222222222,
              "#7201a8"
             ],
             [
              0.3333333333333333,
              "#9c179e"
             ],
             [
              0.4444444444444444,
              "#bd3786"
             ],
             [
              0.5555555555555556,
              "#d8576b"
             ],
             [
              0.6666666666666666,
              "#ed7953"
             ],
             [
              0.7777777777777778,
              "#fb9f3a"
             ],
             [
              0.8888888888888888,
              "#fdca26"
             ],
             [
              1,
              "#f0f921"
             ]
            ],
            "type": "heatmap"
           }
          ],
          "histogram": [
           {
            "marker": {
             "pattern": {
              "fillmode": "overlay",
              "size": 10,
              "solidity": 0.2
             }
            },
            "type": "histogram"
           }
          ],
          "histogram2d": [
           {
            "colorbar": {
             "outlinewidth": 0,
             "ticks": ""
            },
            "colorscale": [
             [
              0,
              "#0d0887"
             ],
             [
              0.1111111111111111,
              "#46039f"
             ],
             [
              0.2222222222222222,
              "#7201a8"
             ],
             [
              0.3333333333333333,
              "#9c179e"
             ],
             [
              0.4444444444444444,
              "#bd3786"
             ],
             [
              0.5555555555555556,
              "#d8576b"
             ],
             [
              0.6666666666666666,
              "#ed7953"
             ],
             [
              0.7777777777777778,
              "#fb9f3a"
             ],
             [
              0.8888888888888888,
              "#fdca26"
             ],
             [
              1,
              "#f0f921"
             ]
            ],
            "type": "histogram2d"
           }
          ],
          "histogram2dcontour": [
           {
            "colorbar": {
             "outlinewidth": 0,
             "ticks": ""
            },
            "colorscale": [
             [
              0,
              "#0d0887"
             ],
             [
              0.1111111111111111,
              "#46039f"
             ],
             [
              0.2222222222222222,
              "#7201a8"
             ],
             [
              0.3333333333333333,
              "#9c179e"
             ],
             [
              0.4444444444444444,
              "#bd3786"
             ],
             [
              0.5555555555555556,
              "#d8576b"
             ],
             [
              0.6666666666666666,
              "#ed7953"
             ],
             [
              0.7777777777777778,
              "#fb9f3a"
             ],
             [
              0.8888888888888888,
              "#fdca26"
             ],
             [
              1,
              "#f0f921"
             ]
            ],
            "type": "histogram2dcontour"
           }
          ],
          "mesh3d": [
           {
            "colorbar": {
             "outlinewidth": 0,
             "ticks": ""
            },
            "type": "mesh3d"
           }
          ],
          "parcoords": [
           {
            "line": {
             "colorbar": {
              "outlinewidth": 0,
              "ticks": ""
             }
            },
            "type": "parcoords"
           }
          ],
          "pie": [
           {
            "automargin": true,
            "type": "pie"
           }
          ],
          "scatter": [
           {
            "fillpattern": {
             "fillmode": "overlay",
             "size": 10,
             "solidity": 0.2
            },
            "type": "scatter"
           }
          ],
          "scatter3d": [
           {
            "line": {
             "colorbar": {
              "outlinewidth": 0,
              "ticks": ""
             }
            },
            "marker": {
             "colorbar": {
              "outlinewidth": 0,
              "ticks": ""
             }
            },
            "type": "scatter3d"
           }
          ],
          "scattercarpet": [
           {
            "marker": {
             "colorbar": {
              "outlinewidth": 0,
              "ticks": ""
             }
            },
            "type": "scattercarpet"
           }
          ],
          "scattergeo": [
           {
            "marker": {
             "colorbar": {
              "outlinewidth": 0,
              "ticks": ""
             }
            },
            "type": "scattergeo"
           }
          ],
          "scattergl": [
           {
            "marker": {
             "colorbar": {
              "outlinewidth": 0,
              "ticks": ""
             }
            },
            "type": "scattergl"
           }
          ],
          "scattermap": [
           {
            "marker": {
             "colorbar": {
              "outlinewidth": 0,
              "ticks": ""
             }
            },
            "type": "scattermap"
           }
          ],
          "scattermapbox": [
           {
            "marker": {
             "colorbar": {
              "outlinewidth": 0,
              "ticks": ""
             }
            },
            "type": "scattermapbox"
           }
          ],
          "scatterpolar": [
           {
            "marker": {
             "colorbar": {
              "outlinewidth": 0,
              "ticks": ""
             }
            },
            "type": "scatterpolar"
           }
          ],
          "scatterpolargl": [
           {
            "marker": {
             "colorbar": {
              "outlinewidth": 0,
              "ticks": ""
             }
            },
            "type": "scatterpolargl"
           }
          ],
          "scatterternary": [
           {
            "marker": {
             "colorbar": {
              "outlinewidth": 0,
              "ticks": ""
             }
            },
            "type": "scatterternary"
           }
          ],
          "surface": [
           {
            "colorbar": {
             "outlinewidth": 0,
             "ticks": ""
            },
            "colorscale": [
             [
              0,
              "#0d0887"
             ],
             [
              0.1111111111111111,
              "#46039f"
             ],
             [
              0.2222222222222222,
              "#7201a8"
             ],
             [
              0.3333333333333333,
              "#9c179e"
             ],
             [
              0.4444444444444444,
              "#bd3786"
             ],
             [
              0.5555555555555556,
              "#d8576b"
             ],
             [
              0.6666666666666666,
              "#ed7953"
             ],
             [
              0.7777777777777778,
              "#fb9f3a"
             ],
             [
              0.8888888888888888,
              "#fdca26"
             ],
             [
              1,
              "#f0f921"
             ]
            ],
            "type": "surface"
           }
          ],
          "table": [
           {
            "cells": {
             "fill": {
              "color": "#EBF0F8"
             },
             "line": {
              "color": "white"
             }
            },
            "header": {
             "fill": {
              "color": "#C8D4E3"
             },
             "line": {
              "color": "white"
             }
            },
            "type": "table"
           }
          ]
         },
         "layout": {
          "annotationdefaults": {
           "arrowcolor": "#2a3f5f",
           "arrowhead": 0,
           "arrowwidth": 1
          },
          "autotypenumbers": "strict",
          "coloraxis": {
           "colorbar": {
            "outlinewidth": 0,
            "ticks": ""
           }
          },
          "colorscale": {
           "diverging": [
            [
             0,
             "#8e0152"
            ],
            [
             0.1,
             "#c51b7d"
            ],
            [
             0.2,
             "#de77ae"
            ],
            [
             0.3,
             "#f1b6da"
            ],
            [
             0.4,
             "#fde0ef"
            ],
            [
             0.5,
             "#f7f7f7"
            ],
            [
             0.6,
             "#e6f5d0"
            ],
            [
             0.7,
             "#b8e186"
            ],
            [
             0.8,
             "#7fbc41"
            ],
            [
             0.9,
             "#4d9221"
            ],
            [
             1,
             "#276419"
            ]
           ],
           "sequential": [
            [
             0,
             "#0d0887"
            ],
            [
             0.1111111111111111,
             "#46039f"
            ],
            [
             0.2222222222222222,
             "#7201a8"
            ],
            [
             0.3333333333333333,
             "#9c179e"
            ],
            [
             0.4444444444444444,
             "#bd3786"
            ],
            [
             0.5555555555555556,
             "#d8576b"
            ],
            [
             0.6666666666666666,
             "#ed7953"
            ],
            [
             0.7777777777777778,
             "#fb9f3a"
            ],
            [
             0.8888888888888888,
             "#fdca26"
            ],
            [
             1,
             "#f0f921"
            ]
           ],
           "sequentialminus": [
            [
             0,
             "#0d0887"
            ],
            [
             0.1111111111111111,
             "#46039f"
            ],
            [
             0.2222222222222222,
             "#7201a8"
            ],
            [
             0.3333333333333333,
             "#9c179e"
            ],
            [
             0.4444444444444444,
             "#bd3786"
            ],
            [
             0.5555555555555556,
             "#d8576b"
            ],
            [
             0.6666666666666666,
             "#ed7953"
            ],
            [
             0.7777777777777778,
             "#fb9f3a"
            ],
            [
             0.8888888888888888,
             "#fdca26"
            ],
            [
             1,
             "#f0f921"
            ]
           ]
          },
          "colorway": [
           "#636efa",
           "#EF553B",
           "#00cc96",
           "#ab63fa",
           "#FFA15A",
           "#19d3f3",
           "#FF6692",
           "#B6E880",
           "#FF97FF",
           "#FECB52"
          ],
          "font": {
           "color": "#2a3f5f"
          },
          "geo": {
           "bgcolor": "white",
           "lakecolor": "white",
           "landcolor": "#E5ECF6",
           "showlakes": true,
           "showland": true,
           "subunitcolor": "white"
          },
          "hoverlabel": {
           "align": "left"
          },
          "hovermode": "closest",
          "mapbox": {
           "style": "light"
          },
          "paper_bgcolor": "white",
          "plot_bgcolor": "#E5ECF6",
          "polar": {
           "angularaxis": {
            "gridcolor": "white",
            "linecolor": "white",
            "ticks": ""
           },
           "bgcolor": "#E5ECF6",
           "radialaxis": {
            "gridcolor": "white",
            "linecolor": "white",
            "ticks": ""
           }
          },
          "scene": {
           "xaxis": {
            "backgroundcolor": "#E5ECF6",
            "gridcolor": "white",
            "gridwidth": 2,
            "linecolor": "white",
            "showbackground": true,
            "ticks": "",
            "zerolinecolor": "white"
           },
           "yaxis": {
            "backgroundcolor": "#E5ECF6",
            "gridcolor": "white",
            "gridwidth": 2,
            "linecolor": "white",
            "showbackground": true,
            "ticks": "",
            "zerolinecolor": "white"
           },
           "zaxis": {
            "backgroundcolor": "#E5ECF6",
            "gridcolor": "white",
            "gridwidth": 2,
            "linecolor": "white",
            "showbackground": true,
            "ticks": "",
            "zerolinecolor": "white"
           }
          },
          "shapedefaults": {
           "line": {
            "color": "#2a3f5f"
           }
          },
          "ternary": {
           "aaxis": {
            "gridcolor": "white",
            "linecolor": "white",
            "ticks": ""
           },
           "baxis": {
            "gridcolor": "white",
            "linecolor": "white",
            "ticks": ""
           },
           "bgcolor": "#E5ECF6",
           "caxis": {
            "gridcolor": "white",
            "linecolor": "white",
            "ticks": ""
           }
          },
          "title": {
           "x": 0.05
          },
          "xaxis": {
           "automargin": true,
           "gridcolor": "white",
           "linecolor": "white",
           "ticks": "",
           "title": {
            "standoff": 15
           },
           "zerolinecolor": "white",
           "zerolinewidth": 2
          },
          "yaxis": {
           "automargin": true,
           "gridcolor": "white",
           "linecolor": "white",
           "ticks": "",
           "title": {
            "standoff": 15
           },
           "zerolinecolor": "white",
           "zerolinewidth": 2
          }
         }
        },
        "title": {
         "text": "CAC vs ROI Comparison by Channel"
        },
        "width": 1000,
        "xaxis": {
         "anchor": "y",
         "domain": [
          0,
          0.45
         ]
        },
        "xaxis2": {
         "anchor": "y2",
         "domain": [
          0.55,
          1
         ]
        },
        "yaxis": {
         "anchor": "x",
         "domain": [
          0,
          1
         ]
        },
        "yaxis2": {
         "anchor": "x2",
         "domain": [
          0,
          1
         ]
        }
       }
      },
      "image/png": "[encoded data removed]"
     },
     "metadata": {},
     "output_type": "display_data"
    }
   ],
   "source": [
    "# Compute ROI\n",
    "monthly[\"ROI\"] = np.where(monthly[\"spend\"] > 0,\n",
    "                          monthly[\"revenue\"] / monthly[\"spend\"],\n",
    "                          np.nan)\n",
    "\n",
    "# Create subplot with two charts\n",
    "fig = make_subplots(rows=1, cols=2, shared_xaxes=True,\n",
    "                    subplot_titles=(\"Monthly CAC by Channel\", \"Monthly ROI (Revenue/Spend) by Channel\"))\n",
    "\n",
    "# Add CAC traces\n",
    "for ch in monthly[\"channel\"].unique():\n",
    "    subset = monthly[monthly[\"channel\"] == ch]\n",
    "    fig.add_trace(\n",
    "        go.Scatter(x=subset[\"month\"], y=subset[\"CAC\"], mode=\"lines+markers\", name=f\"CAC - {ch}\"),\n",
    "        row=1, col=1\n",
    "    )\n",
    "\n",
    "# Add ROI traces\n",
    "for ch in monthly[\"channel\"].unique():\n",
    "    subset = monthly[monthly[\"channel\"] == ch]\n",
    "    fig.add_trace(\n",
    "        go.Scatter(x=subset[\"month\"], y=subset[\"ROI\"], mode=\"lines+markers\", name=f\"ROI - {ch}\"),\n",
    "        row=1, col=2\n",
    "    )\n",
    "\n",
    "# Layout improvements\n",
    "fig.update_layout(\n",
    "    title=\"CAC vs ROI Comparison by Channel\",\n",
    "    hovermode=\"x unified\",\n",
    "    legend=dict(x=0.5, y=-0.2, orientation=\"h\"),  # move legend below\n",
    "    height=500, width=1000\n",
    ")\n",
    "\n",
    "fig.show()\n"
   ]
  },
  {
   "cell_type": "code",
   "execution_count": 69,
   "id": "be7d52b2-a7d3-4627-a437-7ba2b9b2c7f7",
   "metadata": {},
   "outputs": [
    {
     "data": {
      "image/png": "[encoded data removed]",
      "text/plain": [
       "<Figure size 1200x600 with 1 Axes>"
      ]
     },
     "metadata": {},
     "output_type": "display_data"
    }
   ],
   "source": [
    "import seaborn as sns\n",
    "import matplotlib.pyplot as plt\n",
    "import pandas as pd\n",
    "\n",
    "# Convert month to numeric ordinal\n",
    "monthly[\"month_num\"] = monthly[\"month\"].map(pd.Timestamp.toordinal)\n",
    "\n",
    "plt.figure(figsize=(12,6))\n",
    "\n",
    "# Scatter plot of actual points (using month_num)\n",
    "sns.scatterplot(\n",
    "    data=monthly,\n",
    "    x=\"month_num\",\n",
    "    y=\"CAC\",\n",
    "    hue=\"channel\",\n",
    "    style=\"channel\",\n",
    "    alpha=0.7,\n",
    "    s=60\n",
    ")\n",
    "\n",
    "# Add regression lines for each channel\n",
    "for ch in monthly[\"channel\"].unique():\n",
    "    subset = monthly[monthly[\"channel\"]==ch]\n",
    "    sns.regplot(\n",
    "        data=subset,\n",
    "        x=\"month_num\",\n",
    "        y=\"CAC\",\n",
    "        scatter=False,\n",
    "        ci=None,\n",
    "        label=f\"{ch} trend\"\n",
    "    )\n",
    "\n",
    "# Fix x-axis ticks back to real month labels\n",
    "ticks = monthly[\"month_num\"].unique()\n",
    "plt.xticks(\n",
    "    ticks=ticks[::2],  # show every 2nd tick for readability\n",
    "    labels=monthly[\"month\"].dt.strftime(\"%b %Y\").unique()[::2],\n",
    "    rotation=45\n",
    ")\n",
    "\n",
    "plt.xlabel(\"Month\")\n",
    "plt.ylabel(\"CAC ($)\")\n",
    "plt.title(\"CAC Trends by Channel (Datapoints + Linear Trendlines)\")\n",
    "plt.legend()\n",
    "plt.tight_layout()\n",
    "plt.show()\n"
   ]
  },
  {
   "cell_type": "code",
   "execution_count": 63,
   "id": "1671a5ce-3961-40f7-8c80-1673e2df7b4a",
   "metadata": {},
   "outputs": [
    {
     "data": {
      "text/html": [
       "<div>\n",
       "<style scoped>\n",
       "    .dataframe tbody tr th:only-of-type {\n",
       "        vertical-align: middle;\n",
       "    }\n",
       "\n",
       "    .dataframe tbody tr th {\n",
       "        vertical-align: top;\n",
       "    }\n",
       "\n",
       "    .dataframe thead th {\n",
       "        text-align: right;\n",
       "    }\n",
       "</style>\n",
       "<table border=\"1\" class=\"dataframe\">\n",
       "  <thead>\n",
       "    <tr style=\"text-align: right;\">\n",
       "      <th>channel</th>\n",
       "      <th>FB Ads</th>\n",
       "      <th>Google Ads</th>\n",
       "      <th>Organic + Direct</th>\n",
       "      <th>YouTube Ads</th>\n",
       "    </tr>\n",
       "    <tr>\n",
       "      <th>channel</th>\n",
       "      <th></th>\n",
       "      <th></th>\n",
       "      <th></th>\n",
       "      <th></th>\n",
       "    </tr>\n",
       "  </thead>\n",
       "  <tbody>\n",
       "    <tr>\n",
       "      <th>FB Ads</th>\n",
       "      <td>1.000000</td>\n",
       "      <td>0.562305</td>\n",
       "      <td>0.729959</td>\n",
       "      <td>0.624935</td>\n",
       "    </tr>\n",
       "    <tr>\n",
       "      <th>Google Ads</th>\n",
       "      <td>0.562305</td>\n",
       "      <td>1.000000</td>\n",
       "      <td>0.699751</td>\n",
       "      <td>0.139621</td>\n",
       "    </tr>\n",
       "    <tr>\n",
       "      <th>Organic + Direct</th>\n",
       "      <td>0.729959</td>\n",
       "      <td>0.699751</td>\n",
       "      <td>1.000000</td>\n",
       "      <td>0.208983</td>\n",
       "    </tr>\n",
       "    <tr>\n",
       "      <th>YouTube Ads</th>\n",
       "      <td>0.624935</td>\n",
       "      <td>0.139621</td>\n",
       "      <td>0.208983</td>\n",
       "      <td>1.000000</td>\n",
       "    </tr>\n",
       "  </tbody>\n",
       "</table>\n",
       "</div>"
      ],
      "text/plain": [
       "channel             FB Ads  Google Ads  Organic + Direct  YouTube Ads\n",
       "channel                                                              \n",
       "FB Ads            1.000000    0.562305          0.729959     0.624935\n",
       "Google Ads        0.562305    1.000000          0.699751     0.139621\n",
       "Organic + Direct  0.729959    0.699751          1.000000     0.208983\n",
       "YouTube Ads       0.624935    0.139621          0.208983     1.000000"
      ]
     },
     "execution_count": 63,
     "metadata": {},
     "output_type": "execute_result"
    }
   ],
   "source": [
    "# Correlation matrix across channels: orders time series per channel\n",
    "pivot_orders = df.pivot_table(\n",
    "    index=\"month\",\n",
    "    columns=\"channel\",\n",
    "    values=\"last_click_orders\",\n",
    "    aggfunc=\"sum\"\n",
    ").fillna(0)\n",
    "\n",
    "corr_matrix = pivot_orders.corr()\n",
    "\n",
    "corr_matrix\n"
   ]
  },
  {
   "cell_type": "code",
   "execution_count": 78,
   "id": "d3edc3bd-bd6a-4428-87c3-8b0865cee93f",
   "metadata": {},
   "outputs": [
    {
     "data": {
      "text/html": [
       "<div>\n",
       "<style scoped>\n",
       "    .dataframe tbody tr th:only-of-type {\n",
       "        vertical-align: middle;\n",
       "    }\n",
       "\n",
       "    .dataframe tbody tr th {\n",
       "        vertical-align: top;\n",
       "    }\n",
       "\n",
       "    .dataframe thead th {\n",
       "        text-align: right;\n",
       "    }\n",
       "</style>\n",
       "<table border=\"1\" class=\"dataframe\">\n",
       "  <thead>\n",
       "    <tr style=\"text-align: right;\">\n",
       "      <th></th>\n",
       "      <th>month</th>\n",
       "      <th>channel</th>\n",
       "      <th>conversion_add_to_cart</th>\n",
       "      <th>orders</th>\n",
       "      <th>conversion_from_add_to_cart_to_orders</th>\n",
       "    </tr>\n",
       "  </thead>\n",
       "  <tbody>\n",
       "    <tr>\n",
       "      <th>0</th>\n",
       "      <td>2025-06-01</td>\n",
       "      <td>Google Ads</td>\n",
       "      <td>235.0</td>\n",
       "      <td>689.0</td>\n",
       "      <td>2.931915</td>\n",
       "    </tr>\n",
       "    <tr>\n",
       "      <th>1</th>\n",
       "      <td>2025-06-01</td>\n",
       "      <td>YouTube Ads</td>\n",
       "      <td>82.0</td>\n",
       "      <td>127.0</td>\n",
       "      <td>1.548780</td>\n",
       "    </tr>\n",
       "    <tr>\n",
       "      <th>2</th>\n",
       "      <td>2025-06-01</td>\n",
       "      <td>FB Ads</td>\n",
       "      <td>44.0</td>\n",
       "      <td>143.0</td>\n",
       "      <td>3.250000</td>\n",
       "    </tr>\n",
       "    <tr>\n",
       "      <th>3</th>\n",
       "      <td>2025-06-01</td>\n",
       "      <td>Organic + Direct</td>\n",
       "      <td>378.0</td>\n",
       "      <td>572.0</td>\n",
       "      <td>1.513227</td>\n",
       "    </tr>\n",
       "    <tr>\n",
       "      <th>4</th>\n",
       "      <td>2025-05-01</td>\n",
       "      <td>Organic + Direct</td>\n",
       "      <td>1786.0</td>\n",
       "      <td>547.0</td>\n",
       "      <td>0.306271</td>\n",
       "    </tr>\n",
       "    <tr>\n",
       "      <th>...</th>\n",
       "      <td>...</td>\n",
       "      <td>...</td>\n",
       "      <td>...</td>\n",
       "      <td>...</td>\n",
       "      <td>...</td>\n",
       "    </tr>\n",
       "    <tr>\n",
       "      <th>67</th>\n",
       "      <td>2024-02-01</td>\n",
       "      <td>Organic + Direct</td>\n",
       "      <td>3140.0</td>\n",
       "      <td>338.0</td>\n",
       "      <td>0.107643</td>\n",
       "    </tr>\n",
       "    <tr>\n",
       "      <th>68</th>\n",
       "      <td>2024-01-01</td>\n",
       "      <td>Organic + Direct</td>\n",
       "      <td>4099.0</td>\n",
       "      <td>360.0</td>\n",
       "      <td>0.087826</td>\n",
       "    </tr>\n",
       "    <tr>\n",
       "      <th>69</th>\n",
       "      <td>2024-01-01</td>\n",
       "      <td>Google Ads</td>\n",
       "      <td>2681.0</td>\n",
       "      <td>467.0</td>\n",
       "      <td>0.174189</td>\n",
       "    </tr>\n",
       "    <tr>\n",
       "      <th>70</th>\n",
       "      <td>2024-01-01</td>\n",
       "      <td>YouTube Ads</td>\n",
       "      <td>186.0</td>\n",
       "      <td>1.0</td>\n",
       "      <td>0.005376</td>\n",
       "    </tr>\n",
       "    <tr>\n",
       "      <th>71</th>\n",
       "      <td>2024-01-01</td>\n",
       "      <td>FB Ads</td>\n",
       "      <td>711.0</td>\n",
       "      <td>27.0</td>\n",
       "      <td>0.037975</td>\n",
       "    </tr>\n",
       "  </tbody>\n",
       "</table>\n",
       "<p>72 rows × 5 columns</p>\n",
       "</div>"
      ],
      "text/plain": [
       "          month           channel  conversion_add_to_cart  orders  \\\n",
       "0   2025-06-01         Google Ads                   235.0   689.0   \n",
       "1   2025-06-01        YouTube Ads                    82.0   127.0   \n",
       "2   2025-06-01             FB Ads                    44.0   143.0   \n",
       "3   2025-06-01   Organic + Direct                   378.0   572.0   \n",
       "4   2025-05-01   Organic + Direct                  1786.0   547.0   \n",
       "..          ...               ...                     ...     ...   \n",
       "67  2024-02-01   Organic + Direct                  3140.0   338.0   \n",
       "68  2024-01-01   Organic + Direct                  4099.0   360.0   \n",
       "69  2024-01-01         Google Ads                  2681.0   467.0   \n",
       "70  2024-01-01        YouTube Ads                   186.0     1.0   \n",
       "71  2024-01-01             FB Ads                   711.0    27.0   \n",
       "\n",
       "    conversion_from_add_to_cart_to_orders  \n",
       "0                                2.931915  \n",
       "1                                1.548780  \n",
       "2                                3.250000  \n",
       "3                                1.513227  \n",
       "4                                0.306271  \n",
       "..                                    ...  \n",
       "67                               0.107643  \n",
       "68                               0.087826  \n",
       "69                               0.174189  \n",
       "70                               0.005376  \n",
       "71                               0.037975  \n",
       "\n",
       "[72 rows x 5 columns]"
      ]
     },
     "execution_count": 78,
     "metadata": {},
     "output_type": "execute_result"
    }
   ],
   "source": [
    "df = pd.read_csv(\"channel_performance.csv\")\n",
    "\n",
    "# Query with DuckDB\n",
    "result = duckdb.query(\"\"\"\n",
    "    SELECT \n",
    "        month, channel,\n",
    "        SUM(last_click_add_to_cart) as conversion_add_to_cart, \n",
    "        SUM(last_click_orders ) as orders, \n",
    "          SUM(last_click_orders)/SUM(last_click_add_to_cart)::float AS conversion_from_add_to_cart_to_orders\n",
    "    FROM df\n",
    "    GROUP BY 1,2\n",
    "    ORDER BY 1 DESC\n",
    "    \"\"\"\n",
    ").to_df()\n",
    "\n",
    "result"
   ]
  },
  {
   "cell_type": "code",
   "execution_count": 86,
   "id": "547261ed-b6b1-4516-bb7e-a5d381ed9d51",
   "metadata": {},
   "outputs": [
    {
     "data": {
      "image/png": "[encoded data removed]",
      "text/plain": [
       "<Figure size 1000x500 with 1 Axes>"
      ]
     },
     "metadata": {},
     "output_type": "display_data"
    },
    {
     "data": {
      "image/png": "[encoded data removed]",
      "text/plain": [
       "<Figure size 800x400 with 1 Axes>"
      ]
     },
     "metadata": {},
     "output_type": "display_data"
    }
   ],
   "source": [
    "# Load\n",
    "df = pd.read_csv(\"channel_performance.csv\")\n",
    "df.columns = [c.strip().lower().replace(\" \", \"_\") for c in df.columns]\n",
    "\n",
    "# Parse dates\n",
    "df[\"month\"] = pd.to_datetime(df[\"month\"])\n",
    "\n",
    "# Clean numerics\n",
    "for col in df.columns:\n",
    "    if col in [\"channel\",\"month\"]:\n",
    "        continue\n",
    "    if df[col].dtype == object:\n",
    "        df[col] = (\n",
    "            df[col].astype(str)\n",
    "            .str.replace(\"[$,]\", \"\", regex=True)\n",
    "            .str.replace(\"%\",\"\",regex=False)\n",
    "            .str.strip()\n",
    "        )\n",
    "        df[col] = pd.to_numeric(df[col], errors=\"coerce\")\n",
    "\n",
    "# Rename\n",
    "df = df.rename(columns={\n",
    "    \"last_click_add_to_cart\":\"add_to_cart\",\n",
    "    \"last_click_orders\":\"orders\",\n",
    "    \"last_click_revenue\":\"revenue\"\n",
    "})\n",
    "\n",
    "# Aggregate monthly per channel\n",
    "monthly = (\n",
    "    df.groupby([\"month\",\"channel\"], dropna=False)\n",
    "      .agg(add_to_cart=(\"add_to_cart\",\"sum\"),\n",
    "           orders=(\"orders\",\"sum\"))\n",
    "      .reset_index()\n",
    ")\n",
    "\n",
    "# Conversion: add_to_cart -> order\n",
    "monthly[\"conv_a2o\"] = np.where(monthly[\"add_to_cart\"]>0,\n",
    "                               monthly[\"orders\"]/monthly[\"add_to_cart\"],\n",
    "                               np.nan)\n",
    "\n",
    "# Focus channels\n",
    "channels = [\"YouTube Ads\", \"Google Ads\", \"FB Ads\", \"Organic + Direct\"]\n",
    "plot_df = monthly[monthly[\"channel\"].isin(channels)].copy()\n",
    "\n",
    "# ---- Chart 1: Time series comparison ----\n",
    "plt.figure(figsize=(10,5))\n",
    "for ch in channels:\n",
    "    cdf = plot_df[plot_df[\"channel\"]==ch].sort_values(\"month\")\n",
    "    if cdf.empty:\n",
    "        continue\n",
    "    plt.plot(cdf[\"month\"], cdf[\"conv_a2o\"], marker=\"o\", label=ch)\n",
    "\n",
    "plt.title(\"Add-to-Cart → Order Conversion by Channel\")\n",
    "plt.xlabel(\"Month\")\n",
    "plt.ylabel(\"Conversion (orders / add_to_cart)\")\n",
    "plt.legend()\n",
    "plt.xticks(rotation=45)\n",
    "plt.tight_layout()\n",
    "plt.show()\n",
    "\n",
    "# ---- Chart 2: Median conversion by channel (bar) ----\n",
    "medians = (\n",
    "    plot_df.groupby(\"channel\")[\"conv_a2o\"]\n",
    "           .median()\n",
    "           .sort_values(ascending=False)\n",
    "           .reset_index()\n",
    ")\n",
    "plt.figure(figsize=(8,4))\n",
    "plt.bar(medians[\"channel\"], medians[\"conv_a2o\"])\n",
    "plt.title(\"Median Add-to-Cart → Order Conversion (Jan 2024–Jun 2025)\")\n",
    "plt.ylabel(\"Median conversion\")\n",
    "plt.xticks(rotation=30, ha=\"right\")\n",
    "plt.tight_layout()\n",
    "plt.show()\n",
    "\n",
    "# ---- Table: YouTube lowest conversion months ----\n",
    "yt = plot_df[plot_df[\"channel\"]==\"YouTube Ads\"].sort_values(\"conv_a2o\").head(6).copy()\n",
    "yt = yt[[\"month\",\"add_to_cart\",\"orders\",\"conv_a2o\"]].round({\"conv_a2o\":4})\n"
   ]
  },
  {
   "cell_type": "code",
   "execution_count": null,
   "id": "3985efb9-98fa-4a6a-91b9-5a640bcdfd12",
   "metadata": {},
   "outputs": [],
   "source": []
  }
 ],
 "metadata": {
  "kernelspec": {
   "display_name": "Python 3 (ipykernel)",
   "language": "python",
   "name": "python3"
  },
  "language_info": {
   "codemirror_mode": {
    "name": "ipython",
    "version": 3
   },
   "file_extension": ".py",
   "mimetype": "text/x-python",
   "name": "python",
   "nbconvert_exporter": "python",
   "pygments_lexer": "ipython3",
   "version": "3.13.2"
  }
 },
 "nbformat": 4,
 "nbformat_minor": 5
}
